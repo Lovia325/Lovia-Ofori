{
 "cells": [
  {
   "cell_type": "markdown",
   "metadata": {},
   "source": [
    "# Introduction to Programming in Python"
   ]
  },
  {
   "cell_type": "markdown",
   "metadata": {},
   "source": [
    "Welcome to an ipython notebook!  It lets you write computer code in the python programming language, and run it in blocks\n",
    "\n"
   ]
  },
  {
   "cell_type": "code",
   "execution_count": null,
   "metadata": {},
   "outputs": [],
   "source": [
    "\n",
    "# Lines that start with a hash sign like these are comments.  The python interpretter\n",
    "# ignores them.  You can write as many as you want.  Comments are usually used to \n",
    "# remind you, and explain to others, what your code does. Good programmers place \n",
    "# comments throughout their code to document it."
   ]
  },
  {
   "cell_type": "code",
   "execution_count": 1,
   "metadata": {},
   "outputs": [
    {
     "name": "stdout",
     "output_type": "stream",
     "text": [
      "The first line of code!\n"
     ]
    }
   ],
   "source": [
    "# This is the second block of code in the notebook. The first block did not actually do\n",
    "# anything - it was all comments.  This block does something, though. You can run it with \n",
    "# shift+enter.  \n",
    "\n",
    "print(\"The first line of code!\")"
   ]
  },
  {
   "cell_type": "code",
   "execution_count": 2,
   "metadata": {},
   "outputs": [
    {
     "name": "stdout",
     "output_type": "stream",
     "text": [
      "The second line of code\n"
     ]
    }
   ],
   "source": [
    "# In this block, make the program output \"the second line of code!\"\n",
    "\n",
    "print(\"The second line of code\")\n"
   ]
  },
  {
   "cell_type": "code",
   "execution_count": 3,
   "metadata": {},
   "outputs": [
    {
     "name": "stdout",
     "output_type": "stream",
     "text": [
      "4\n",
      "102\n"
     ]
    }
   ],
   "source": [
    "# OK.  We can also to simple math.  Like adding two numbers\n",
    "\n",
    "print(1+3)\n",
    "print(3*34)"
   ]
  },
  {
   "cell_type": "code",
   "execution_count": 4,
   "metadata": {},
   "outputs": [
    {
     "name": "stdout",
     "output_type": "stream",
     "text": [
      "113.89999999999999\n"
     ]
    }
   ],
   "source": [
    "# Those were whole numbers (integers, or ints)  We can do non-whole ones (floats) too:\n",
    "\n",
    "print(3.4*33.5)"
   ]
  },
  {
   "cell_type": "code",
   "execution_count": 5,
   "metadata": {},
   "outputs": [
    {
     "name": "stdout",
     "output_type": "stream",
     "text": [
      "2.5\n"
     ]
    }
   ],
   "source": [
    "print(5/2)\n"
   ]
  },
  {
   "cell_type": "markdown",
   "metadata": {},
   "source": [
    "Great. Now we're programming. The next thing we need to know about are variables. A variable is a container that stores something.  In almost all programming langauges, variables can store numbers, strings, or complicated programming objects. To fill, or \"assign\" a variable, use the \"=\" sign.\n",
    "\n"
   ]
  },
  {
   "cell_type": "code",
   "execution_count": 6,
   "metadata": {},
   "outputs": [
    {
     "name": "stdout",
     "output_type": "stream",
     "text": [
      "6\n"
     ]
    }
   ],
   "source": [
    "\n",
    "a=5\n",
    "print(a+1)"
   ]
  },
  {
   "cell_type": "code",
   "execution_count": 7,
   "metadata": {},
   "outputs": [
    {
     "name": "stdout",
     "output_type": "stream",
     "text": [
      "11\n"
     ]
    }
   ],
   "source": [
    "# In this block, define two variables b and c containing numbers 5 and 6, and print their sum\n",
    "\n",
    "b=5\n",
    "c=6\n",
    "print(b+c)\n"
   ]
  },
  {
   "cell_type": "code",
   "execution_count": 10,
   "metadata": {},
   "outputs": [
    {
     "name": "stdout",
     "output_type": "stream",
     "text": [
      "0.8333333333333334\n"
     ]
    }
   ],
   "source": [
    "# Print their ratio.\n",
    "\n",
    "print(b/c)\n"
   ]
  },
  {
   "cell_type": "code",
   "execution_count": 11,
   "metadata": {},
   "outputs": [
    {
     "name": "stdout",
     "output_type": "stream",
     "text": [
      "These variables contain strings\n"
     ]
    }
   ],
   "source": [
    "\n",
    "d=\"These variables contain\"\n",
    "e=\" strings\"\n",
    "print(d+e)"
   ]
  },
  {
   "cell_type": "markdown",
   "metadata": {},
   "source": [
    "Python is special among programming languages because it is \"typless\".  You don't have to tell is what a variable will contain, you just assign it.   For example, a line of text, or a \"string\", can be put into a variable with quotes \"\""
   ]
  },
  {
   "cell_type": "code",
   "execution_count": 12,
   "metadata": {},
   "outputs": [
    {
     "name": "stdout",
     "output_type": "stream",
     "text": [
      "The variable (a) contains 5 and the next number is 6\n"
     ]
    }
   ],
   "source": [
    "# You can print several things on one line:\n",
    "print(\"The variable (a) contains\",a, \"and the next number is\", a+1 )"
   ]
  },
  {
   "cell_type": "code",
   "execution_count": 17,
   "metadata": {},
   "outputs": [
    {
     "name": "stdout",
     "output_type": "stream",
     "text": [
      "The variable (b) contains 11.3453643 varaible (c) contains 6 and their sum is 17.3453643\n"
     ]
    }
   ],
   "source": [
    "# Write a line of code like the one above to tell us b, c and their sum\n",
    "\n",
    "print(\"The variable (b) contains\",11.3453643, \"varaible (c) contains\",6, \"and their sum is\", b+c)\n"
   ]
  },
  {
   "cell_type": "code",
   "execution_count": 18,
   "metadata": {},
   "outputs": [
    {
     "name": "stdout",
     "output_type": "stream",
     "text": [
      "The variable (b) contains 11.3453643 varaible (c) contains 6 and their product is 68.0721858\n"
     ]
    }
   ],
   "source": [
    "# Write a line of code like the one above to tell us b, c and their product\n",
    "\n",
    "print(\"The variable (b) contains\",11.3453643, \"varaible (c) contains\",6, \"and their product is\", b*c)\n"
   ]
  },
  {
   "cell_type": "code",
   "execution_count": 38,
   "metadata": {},
   "outputs": [
    {
     "name": "stdout",
     "output_type": "stream",
     "text": [
      "The length of the hypotenuse is 12.834223431891564\n"
     ]
    }
   ],
   "source": [
    "# Consider a right angle triangle with side lenghts b and c.  Write code to\n",
    "# tell us the length of the hypotenuse\n",
    "#  note, powers can be evaluated with pow(b,c).  For example, square root of a is pow(a,0.5)\n",
    "\n",
    "import math\n",
    "def calculate_hypotenuse(b, c):\n",
    "    # Calculate the hypotenuse using the Pythagorean theorem\n",
    "    \n",
    "    b = 11.3453643\n",
    "    c = 6\n",
    "    a = math.sqrt(b**2 + c**2)\n",
    "\n",
    "    return a\n",
    "\n",
    "hypotenuse = calculate_hypotenuse(b, c)\n",
    "\n",
    "print(f\"The length of the hypotenuse is {hypotenuse}\")\n"
   ]
  },
  {
   "cell_type": "code",
   "execution_count": 16,
   "metadata": {},
   "outputs": [
    {
     "name": "stdout",
     "output_type": "stream",
     "text": [
      "11.3453643\n"
     ]
    }
   ],
   "source": [
    "# Change the value of b by executing this line, and re-run the above 3 blocks\n",
    "b=11.3453643\n",
    "\n",
    "print(b)"
   ]
  },
  {
   "cell_type": "code",
   "execution_count": 42,
   "metadata": {},
   "outputs": [
    {
     "name": "stdout",
     "output_type": "stream",
     "text": [
      "The total speed of the particle is 10.295630140987 m/s\n"
     ]
    }
   ],
   "source": [
    "# A particle has the following velocity components:\n",
    "#  vx is 3 ms^-1\n",
    "#  vy is 4 ms^-1\n",
    "#  vz is 9 ms^-1\n",
    "# Store these in variables. Write code to evaluate the total speed and print it to screen.\n",
    "\n",
    "# Velocity components (in ms^-1)\n",
    "vx = 3 \n",
    "vy = 4 \n",
    "vz = 9 \n",
    "\n",
    "# Calculate the total speed\n",
    "speed = math.sqrt(vx**2 + vy**2 + vz**2)\n",
    "\n",
    "# Print the total speed\n",
    "print(f\"The total speed of the particle is {speed} m/s\")\n"
   ]
  },
  {
   "cell_type": "markdown",
   "metadata": {},
   "source": [
    "# Flow control (if)"
   ]
  },
  {
   "cell_type": "markdown",
   "metadata": {},
   "source": [
    "An important component of computer programs is the if statement.  If statements work like this.  Notice the indentation - the first indented block is what gets run, if the test statement evaluares true. The second is what runs if it evaluates false:"
   ]
  },
  {
   "cell_type": "code",
   "execution_count": 9,
   "metadata": {},
   "outputs": [
    {
     "name": "stdout",
     "output_type": "stream",
     "text": [
      "a is bigger than b!\n"
     ]
    }
   ],
   "source": [
    "\n",
    "a=5\n",
    "b=2\n",
    "\n",
    "if(a>b): \n",
    "    print(\"a is bigger than b!\")\n",
    "else:\n",
    "    print(\"a is smaller than b!\")"
   ]
  },
  {
   "cell_type": "markdown",
   "metadata": {},
   "source": [
    "In python, program flow is all controlled by indentation:\n",
    "\n"
   ]
  },
  {
   "cell_type": "code",
   "execution_count": 10,
   "metadata": {},
   "outputs": [
    {
     "name": "stdout",
     "output_type": "stream",
     "text": [
      "test 1...\n",
      "no it isn't!\n"
     ]
    }
   ],
   "source": [
    "print(\"test 1...\")\n",
    "\n",
    "if(a<b): \n",
    "    print(\"yes it is!\")\n",
    "if(a>b): \n",
    "    print(\"no it isn't!\")"
   ]
  },
  {
   "cell_type": "code",
   "execution_count": 12,
   "metadata": {},
   "outputs": [
    {
     "name": "stdout",
     "output_type": "stream",
     "text": [
      "test 2...\n"
     ]
    }
   ],
   "source": [
    "print(\"test 2...\")\n",
    "\n",
    "if(a<b): \n",
    "    print(\"yes it is!\")\n",
    "    if(a>b): \n",
    "        print(\"no it isn't!\")"
   ]
  },
  {
   "cell_type": "code",
   "execution_count": 13,
   "metadata": {},
   "outputs": [
    {
     "name": "stdout",
     "output_type": "stream",
     "text": [
      "test 3...\n",
      "no it isn't!\n"
     ]
    }
   ],
   "source": [
    "print(\"test 3...\")\n",
    "\n",
    "if(a<b): \n",
    "    print(\"yes it is!\")\n",
    "if(a>b): \n",
    "    print(\"no it isn't!\")"
   ]
  },
  {
   "cell_type": "code",
   "execution_count": 14,
   "metadata": {},
   "outputs": [
    {
     "name": "stdout",
     "output_type": "stream",
     "text": [
      "test 4....\n",
      "yes it is!\n"
     ]
    }
   ],
   "source": [
    "# Write code to test if a*b is bigger than 6 and write the answer to screen.\n",
    "\n",
    "print(\"test 4....\")\n",
    "\n",
    "if(a*b>6):\n",
    "    print(\"yes it is!\")\n",
    "\n",
    "if(a*b<6):    \n",
    "    print(\"no it isn't!\")"
   ]
  },
  {
   "cell_type": "code",
   "execution_count": 15,
   "metadata": {},
   "outputs": [
    {
     "name": "stdout",
     "output_type": "stream",
     "text": [
      "test 5....\n",
      "yes it is!\n"
     ]
    }
   ],
   "source": [
    "# change the values of a and b to get the oposite answer, and re-run the code above.\n",
    "\n",
    "a=5\n",
    "b=2\n",
    "\n",
    "print(\"test 5....\")\n",
    "\n",
    "if(a*b>6):\n",
    "    print(\"yes it is!\")\n",
    "    \n",
    "if(a*b<6):\n",
    "    print(\"no it isn't\")\n",
    "\n"
   ]
  },
  {
   "cell_type": "code",
   "execution_count": 17,
   "metadata": {},
   "outputs": [
    {
     "name": "stdout",
     "output_type": "stream",
     "text": [
      "The particle is moving forward in the z-direction.\n"
     ]
    }
   ],
   "source": [
    "# Write code to test whether the particle with velocity defined above is going\n",
    "# forwards or backwards in z, and write the answer to the screen.\n",
    "\n",
    "#To test whether the particle is moving forward or backwards in the z-direction,we can check the sign of the vz component.\n",
    "# Thus if vz is positive, the particle moves forward but if vz is negative, the particle moves backwards.\n",
    "\n",
    "\n",
    "# Velocity components (in ms^-1)\n",
    "vx = 3 \n",
    "vy = 4 \n",
    "vz = 9 \n",
    "\n",
    "# Check the direction of the particle in the z-direction\n",
    "if vz > 0:\n",
    "    direction_z = \"forward\"\n",
    "elif vz < 0:\n",
    "    direction_z = \"backwards\"\n",
    "else:\n",
    "    direction_z = \"stationary\"\n",
    "\n",
    "# Print the direction in the z-direction\n",
    "print(f\"The particle is moving {direction_z} in the z-direction.\")\n"
   ]
  },
  {
   "cell_type": "markdown",
   "metadata": {},
   "source": [
    "We used > to test if a was bigger than b.\n",
    "Other comparative statements look like this:\n",
    "\n",
    " == (Equal) \n",
    " \n",
    " != (Not Equal) \n",
    " \n",
    " < (Less) \n",
    " \n",
    " \\> (Greater)      \n",
    " \n",
    " <= (Less than or equal)\n",
    " \n",
    " \\>= (Greater than or equal)\n",
    " \n",
    "\n"
   ]
  },
  {
   "cell_type": "code",
   "execution_count": 18,
   "metadata": {},
   "outputs": [
    {
     "name": "stdout",
     "output_type": "stream",
     "text": [
      "1==3 False\n",
      "1==1 True\n",
      "1>1 False\n",
      "1>=1 True\n",
      "1>3 False\n",
      "1!=1 False\n",
      "1!=3 True\n",
      "-----\n",
      "It is False that 1!=1\n",
      "It is True that 1!=3\n"
     ]
    }
   ],
   "source": [
    "\n",
    "print(\"1==3\", (1==3))\n",
    "print(\"1==1\", (1==1))\n",
    "print(\"1>1\", (1>1))\n",
    "print(\"1>=1\", (1>=1))\n",
    "print(\"1>3\", (1>3))\n",
    "print(\"1!=1\", (1!=1))\n",
    "print(\"1!=3\", (1!=3))\n",
    "\n",
    "print(\"-----\")\n",
    "\n",
    "if 1!=1:\n",
    "    print(\"It is True that 1!=1\")\n",
    "else:\n",
    "    print(\"It is False that 1!=1\")\n",
    "    \n",
    "if 1!=3:\n",
    "    print(\"It is True that 1!=3\")\n",
    "else:\n",
    "    print(\"It is False that 1!=3\" )"
   ]
  },
  {
   "cell_type": "markdown",
   "metadata": {},
   "source": [
    "# Lists"
   ]
  },
  {
   "cell_type": "code",
   "execution_count": 19,
   "metadata": {},
   "outputs": [
    {
     "name": "stdout",
     "output_type": "stream",
     "text": [
      "[10, 20, 30, 40]\n"
     ]
    }
   ],
   "source": [
    "# As well as simple numbers, variables can also store lists of numbers.  A list\n",
    "#  in python looks like this:\n",
    "\n",
    "a=[10,20,30,40]\n",
    "print(a)"
   ]
  },
  {
   "cell_type": "code",
   "execution_count": 20,
   "metadata": {},
   "outputs": [
    {
     "name": "stdout",
     "output_type": "stream",
     "text": [
      "10\n",
      "40\n"
     ]
    }
   ],
   "source": [
    "# You can access elements of arrays like this.  The first element is always index 0.\n",
    "\n",
    "print(a[0])\n",
    "print(a[3])"
   ]
  },
  {
   "cell_type": "code",
   "execution_count": 21,
   "metadata": {},
   "outputs": [
    {
     "name": "stdout",
     "output_type": "stream",
     "text": [
      "[10, 20, 30]\n",
      "[20]\n"
     ]
    }
   ],
   "source": [
    "# You can also \"slice\" out parts of a list, like this:\n",
    "\n",
    "print(a[0:3])\n",
    "print(a[1:2])"
   ]
  },
  {
   "cell_type": "code",
   "execution_count": 22,
   "metadata": {},
   "outputs": [
    {
     "name": "stdout",
     "output_type": "stream",
     "text": [
      "[30, 40]\n",
      "[10, 20]\n",
      "[10, 20]\n"
     ]
    }
   ],
   "source": [
    "# Index -1 means take the last element (-2 means econd last, etc).  Leaving it blank before or \n",
    "# after the : means slice to the end.\n",
    "\n",
    "print(a[2:])\n",
    "print(a[0:-2])\n",
    "print(a[:2])"
   ]
  },
  {
   "cell_type": "code",
   "execution_count": 24,
   "metadata": {},
   "outputs": [
    {
     "name": "stdout",
     "output_type": "stream",
     "text": [
      "['parrot', 'T-Rex', 'liger', 'a llama']\n",
      "['parrot', 'T-Rex', 'liger', 'a llama', 'The Dalai Lama', 'sheep']\n",
      "['a llama', 'The Dalai Lama', 'sheep']\n"
     ]
    }
   ],
   "source": [
    "# Starting from the list below, slice out:\n",
    "#  a) elements 2 to 6\n",
    "#  b) element 2 to end\n",
    "#  c) the third last to the last element\n",
    "\n",
    "the_list=[\"dog\",\"cat\",\"parrot\",\"T-Rex\",\"liger\",\"a llama\",\"The Dalai Lama\",\"sheep\"]\n",
    "\n",
    "print(the_list[2:6])\n",
    "print(the_list[2:])\n",
    "print(the_list[-3:])"
   ]
  },
  {
   "cell_type": "code",
   "execution_count": 25,
   "metadata": {},
   "outputs": [
    {
     "name": "stdout",
     "output_type": "stream",
     "text": [
      "4\n"
     ]
    }
   ],
   "source": [
    "# The length of a list can be obtained with the len() keyword:\n",
    "\n",
    "print(len(a))"
   ]
  },
  {
   "cell_type": "code",
   "execution_count": 26,
   "metadata": {},
   "outputs": [
    {
     "name": "stdout",
     "output_type": "stream",
     "text": [
      "5\n"
     ]
    }
   ],
   "source": [
    "# You don't always have to define lists by hand.  The range command makes a list like this:\n",
    "\n",
    "b=range(0,10)\n",
    "print(b[5])"
   ]
  },
  {
   "cell_type": "code",
   "execution_count": 27,
   "metadata": {},
   "outputs": [
    {
     "name": "stdout",
     "output_type": "stream",
     "text": [
      "104\n"
     ]
    }
   ],
   "source": [
    "c=range(99, 109)\n",
    "print(c[5])"
   ]
  },
  {
   "cell_type": "code",
   "execution_count": 28,
   "metadata": {},
   "outputs": [
    {
     "name": "stdout",
     "output_type": "stream",
     "text": [
      "[5]\n",
      "[5, 7]\n"
     ]
    }
   ],
   "source": [
    "a=[]\n",
    "a.append(5)\n",
    "print(a)\n",
    "a.append(7)\n",
    "print(a)"
   ]
  },
  {
   "cell_type": "markdown",
   "metadata": {},
   "source": [
    "# Loops (for)"
   ]
  },
  {
   "cell_type": "code",
   "execution_count": 29,
   "metadata": {},
   "outputs": [
    {
     "name": "stdout",
     "output_type": "stream",
     "text": [
      "i=0 and i^2=0\n",
      "i=1 and i^2=1\n",
      "i=2 and i^2=4\n",
      "i=3 and i^2=9\n",
      "i=4 and i^2=16\n",
      "i=5 and i^2=25\n",
      "i=6 and i^2=36\n",
      "i=7 and i^2=49\n",
      "i=8 and i^2=64\n",
      "i=9 and i^2=81\n"
     ]
    }
   ],
   "source": [
    "# Arrays can also be used to make loops using the for command.  It works like this:\n",
    "for i in range(0,10):\n",
    "    print( \"i=\"+str(i)+ \" and i^2=\"+str( pow(i,2)))"
   ]
  },
  {
   "cell_type": "code",
   "execution_count": 30,
   "metadata": {},
   "outputs": [],
   "source": [
    "# In programming, there are usually several ways to do the same thing. Consider this list:\n",
    "animals=[\"cat\",\"dog\",\"bear\",\"duck\",\"unicorn\"]\n"
   ]
  },
  {
   "cell_type": "code",
   "execution_count": 31,
   "metadata": {},
   "outputs": [
    {
     "name": "stdout",
     "output_type": "stream",
     "text": [
      "Method 1:\n",
      "cat and dog and bear and duck and unicorn and the rest\n"
     ]
    }
   ],
   "source": [
    "#These two pieces of code serve the same function, for example\n",
    "print(\"Method 1:\")\n",
    "String = \"\"\n",
    "for a in animals:\n",
    "    String =String + a + \" and \"\n",
    "print (String+\"the rest\")"
   ]
  },
  {
   "cell_type": "code",
   "execution_count": 32,
   "metadata": {},
   "outputs": [
    {
     "name": "stdout",
     "output_type": "stream",
     "text": [
      "Method 2:\n",
      "cat and dog and bear and duck and unicorn and   the rest\n"
     ]
    }
   ],
   "source": [
    "print(\"Method 2:\")\n",
    "String = \"\"\n",
    "for i in range(0, len(animals)):\n",
    "    String += animals[i]\n",
    "    String += \" and \"\n",
    "String+=\"  the rest\"\n",
    "print(String)\n",
    "    "
   ]
  },
  {
   "cell_type": "markdown",
   "metadata": {},
   "source": [
    "There are a lot more python commands than the ones we just taught you.  There are also a lot of packages that extend pythons functionality for complicated math, and plotting. We will look at some of these tomorrow.  But with these basic ingredients : math, printing, lists, loops, flow control, we will be able to write programs to search for new particles in LHC data.  We'll finish up with an exercise to practice looping and and math:"
   ]
  },
  {
   "cell_type": "code",
   "execution_count": 34,
   "metadata": {},
   "outputs": [
    {
     "name": "stdout",
     "output_type": "stream",
     "text": [
      "Fibonacci number 0: 0, Ratio: 0.0\n",
      "Fibonacci number 1: 1, Ratio: 1.0\n",
      "Fibonacci number 2: 1, Ratio: 0.5\n",
      "Fibonacci number 3: 2, Ratio: 0.6666666666666666\n",
      "Fibonacci number 4: 3, Ratio: 0.6\n",
      "Fibonacci number 5: 5, Ratio: 0.625\n",
      "Fibonacci number 6: 8, Ratio: 0.6153846153846154\n",
      "Fibonacci number 7: 13, Ratio: 0.6190476190476191\n",
      "Fibonacci number 8: 21, Ratio: 0.6176470588235294\n",
      "Fibonacci number 9: 34, Ratio: 0.6181818181818182\n",
      "Fibonacci number 10: 55, Ratio: 0.6179775280898876\n",
      "Fibonacci number 11: 89, Ratio: 0.6180555555555556\n",
      "Fibonacci number 12: 144, Ratio: 0.6180257510729614\n",
      "Fibonacci number 13: 233, Ratio: 0.6180371352785146\n",
      "Fibonacci number 14: 377, Ratio: 0.6180327868852459\n",
      "Fibonacci number 15: 610, Ratio: 0.6180344478216818\n",
      "Fibonacci number 16: 987, Ratio: 0.6180338134001252\n",
      "Fibonacci number 17: 1597, Ratio: 0.6180340557275542\n",
      "Fibonacci number 18: 2584, Ratio: 0.6180339631667066\n",
      "Fibonacci number 19: 4181, Ratio: 0.6180339985218034\n",
      "Fibonacci number 20: 6765, Ratio: 0.618033985017358\n",
      "Fibonacci number 21: 10946, Ratio: 0.6180339901755971\n",
      "Fibonacci number 22: 17711, Ratio: 0.6180339882053251\n",
      "Fibonacci number 23: 28657, Ratio: 0.618033988957902\n",
      "Fibonacci number 24: 46368, Ratio: 0.6180339886704432\n",
      "Fibonacci number 25: 75025, Ratio: 0.6180339887802427\n",
      "Fibonacci number 26: 121393, Ratio: 0.618033988738303\n",
      "Fibonacci number 27: 196418, Ratio: 0.6180339887543226\n",
      "Fibonacci number 28: 317811, Ratio: 0.6180339887482036\n",
      "Fibonacci number 29: 514229, Ratio: 0.6180339887505408\n",
      "Fibonacci number 30: 832040, Ratio: 0.6180339887496481\n",
      "Fibonacci number 31: 1346269, Ratio: 0.618033988749989\n",
      "Fibonacci number 32: 2178309, Ratio: 0.6180339887498588\n",
      "Fibonacci number 33: 3524578, Ratio: 0.6180339887499086\n",
      "Fibonacci number 34: 5702887, Ratio: 0.6180339887498896\n",
      "Fibonacci number 35: 9227465, Ratio: 0.6180339887498969\n",
      "Fibonacci number 36: 14930352, Ratio: 0.6180339887498941\n",
      "Fibonacci number 37: 24157817, Ratio: 0.6180339887498951\n",
      "Fibonacci number 38: 39088169, Ratio: 0.6180339887498948\n",
      "Fibonacci number 39: 63245986, Ratio: 0.6180339887498949\n",
      "Fibonacci number 40: 102334155, Ratio: 0.6180339887498948\n",
      "Fibonacci number 41: 165580141, Ratio: 0.6180339887498949\n",
      "Fibonacci number 42: 267914296, Ratio: 0.6180339887498948\n",
      "Fibonacci number 43: 433494437, Ratio: 0.6180339887498949\n",
      "Fibonacci number 44: 701408733, Ratio: 0.6180339887498949\n",
      "Fibonacci number 45: 1134903170, Ratio: 0.6180339887498949\n",
      "Fibonacci number 46: 1836311903, Ratio: 0.6180339887498949\n",
      "Fibonacci number 47: 2971215073, Ratio: 0.6180339887498949\n",
      "Fibonacci number 48: 4807526976, Ratio: 0.6180339887498949\n",
      "Fibonacci number 49: 7778742049, Ratio: 0.6180339887498949\n",
      "Fibonacci number 50: 12586269025, Ratio: 0.6180339887498949\n",
      "Fibonacci number 51: 20365011074, Ratio: 0.6180339887498949\n",
      "Fibonacci number 52: 32951280099, Ratio: 0.6180339887498949\n",
      "Fibonacci number 53: 53316291173, Ratio: 0.6180339887498949\n",
      "Fibonacci number 54: 86267571272, Ratio: 0.6180339887498949\n",
      "Fibonacci number 55: 139583862445, Ratio: 0.6180339887498949\n",
      "Fibonacci number 56: 225851433717, Ratio: 0.6180339887498949\n",
      "Fibonacci number 57: 365435296162, Ratio: 0.6180339887498949\n",
      "Fibonacci number 58: 591286729879, Ratio: 0.6180339887498949\n",
      "Fibonacci number 59: 956722026041, Ratio: 0.6180339887498949\n",
      "Fibonacci number 60: 1548008755920, Ratio: 0.6180339887498949\n",
      "Fibonacci number 61: 2504730781961, Ratio: 0.6180339887498949\n",
      "Fibonacci number 62: 4052739537881, Ratio: 0.6180339887498949\n",
      "Fibonacci number 63: 6557470319842, Ratio: 0.6180339887498949\n",
      "Fibonacci number 64: 10610209857723, Ratio: 0.6180339887498949\n",
      "Fibonacci number 65: 17167680177565, Ratio: 0.6180339887498949\n",
      "Fibonacci number 66: 27777890035288, Ratio: 0.6180339887498949\n",
      "Fibonacci number 67: 44945570212853, Ratio: 0.6180339887498949\n",
      "Fibonacci number 68: 72723460248141, Ratio: 0.6180339887498949\n",
      "Fibonacci number 69: 117669030460994, Ratio: 0.6180339887498949\n",
      "Fibonacci number 70: 190392490709135, Ratio: 0.6180339887498949\n",
      "Fibonacci number 71: 308061521170129, Ratio: 0.6180339887498949\n",
      "Fibonacci number 72: 498454011879264, Ratio: 0.6180339887498949\n",
      "Fibonacci number 73: 806515533049393, Ratio: 0.6180339887498949\n",
      "Fibonacci number 74: 1304969544928657, Ratio: 0.6180339887498949\n",
      "Fibonacci number 75: 2111485077978050, Ratio: 0.6180339887498949\n",
      "Fibonacci number 76: 3416454622906707, Ratio: 0.6180339887498949\n",
      "Fibonacci number 77: 5527939700884757, Ratio: 0.6180339887498949\n",
      "Fibonacci number 78: 8944394323791464, Ratio: 0.6180339887498949\n",
      "Fibonacci number 79: 14472334024676221, Ratio: 0.6180339887498949\n",
      "Fibonacci number 80: 23416728348467685, Ratio: 0.6180339887498949\n",
      "Fibonacci number 81: 37889062373143906, Ratio: 0.6180339887498949\n",
      "Fibonacci number 82: 61305790721611591, Ratio: 0.6180339887498949\n",
      "Fibonacci number 83: 99194853094755497, Ratio: 0.6180339887498949\n",
      "Fibonacci number 84: 160500643816367088, Ratio: 0.6180339887498949\n",
      "Fibonacci number 85: 259695496911122585, Ratio: 0.6180339887498949\n",
      "Fibonacci number 86: 420196140727489673, Ratio: 0.6180339887498949\n",
      "Fibonacci number 87: 679891637638612258, Ratio: 0.6180339887498949\n",
      "Fibonacci number 88: 1100087778366101931, Ratio: 0.6180339887498949\n",
      "Fibonacci number 89: 1779979416004714189, Ratio: 0.6180339887498949\n",
      "Fibonacci number 90: 2880067194370816120, Ratio: 0.6180339887498949\n",
      "Fibonacci number 91: 4660046610375530309, Ratio: 0.6180339887498949\n",
      "Fibonacci number 92: 7540113804746346429, Ratio: 0.6180339887498949\n",
      "Fibonacci number 93: 12200160415121876738, Ratio: 0.6180339887498949\n",
      "Fibonacci number 94: 19740274219868223167, Ratio: 0.6180339887498949\n",
      "Fibonacci number 95: 31940434634990099905, Ratio: 0.6180339887498949\n",
      "Fibonacci number 96: 51680708854858323072, Ratio: 0.6180339887498949\n",
      "Fibonacci number 97: 83621143489848422977, Ratio: 0.6180339887498949\n",
      "Fibonacci number 98: 135301852344706746049, Ratio: 0.6180339887498949\n",
      "The 99th ratio (golden ratio approximation) is: 0.6180339887498949\n"
     ]
    }
   ],
   "source": [
    "# Exercise: Write code to evaluate the first 100 fibonacci numbers.\n",
    "# Print the number, and the ratio of the nth and (n+1)th number to the screen\n",
    "# Save the 99th ratio to a variable called \"golden_ratio\"\n",
    "\n",
    "golden_ratio=0.61 #replace me!\n",
    "\n",
    "# Initialize the first two Fibonacci numbers\n",
    "fib_numbers = [0, 1]\n",
    "\n",
    "# Generate the first 100 Fibonacci numbers\n",
    "for i in range(2, 100):\n",
    "    next_fib = fib_numbers[-1] + fib_numbers[-2]\n",
    "    fib_numbers.append(next_fib)\n",
    "\n",
    "# Print each Fibonacci number and the ratio of the nth and (n+1)th number\n",
    "for i in range(99):\n",
    "    ratio = fib_numbers[i] / fib_numbers[i+1]\n",
    "    print(f\"Fibonacci number {i}: {fib_numbers[i]}, Ratio: {ratio}\")\n",
    "\n",
    "# Save the 99th ratio to a variable called \"golden_ratio\"\n",
    "golden_ratio = fib_numbers[98] / fib_numbers[99]\n",
    "\n",
    "print(f\"The 99th ratio (golden ratio approximation) is: {golden_ratio}\")"
   ]
  },
  {
   "cell_type": "code",
   "execution_count": 37,
   "metadata": {},
   "outputs": [],
   "source": [
    "# Don't worry about what this block does, just run it for now. We'll talk about\n",
    "# it tomorrow.\n",
    "import numpy\n",
    "import matplotlib\n",
    "import pylab\n",
    "%matplotlib inline\n"
   ]
  },
  {
   "cell_type": "code",
   "execution_count": 38,
   "metadata": {},
   "outputs": [
    {
     "data": {
      "text/plain": [
       "Text(0.5, 1.0, 'The Golden Spiral')"
      ]
     },
     "execution_count": 38,
     "metadata": {},
     "output_type": "execute_result"
    },
    {
     "data": {
      "image/png": "[encoded data removed]",
      "text/plain": [
       "<Figure size 500x500 with 1 Axes>"
      ]
     },
     "metadata": {},
     "output_type": "display_data"
    }
   ],
   "source": [
    "# Now we'll draw the golden spiral using the golden ratio you calculated.\n",
    "\n",
    "# Make a list of theta values corresponding to 3 rotations\n",
    "theta_values = numpy.arange(0, 6*numpy.pi, 0.1)\n",
    "\n",
    "# A golden spiral has a radius that grows as it rotates,\n",
    "#  with a rate that depends on the golden ratio:\n",
    "spiral_growth_factor = numpy.log(golden_ratio)/(numpy.pi/2.)\n",
    "r_values = numpy.exp(spiral_growth_factor*theta_values)\n",
    "\n",
    "# Get the x and y values\n",
    "x_values = r_values * numpy.sin(theta_values)\n",
    "y_values = r_values * numpy.cos(theta_values)\n",
    "\n",
    "# make a plot\n",
    "pylab.figure(figsize=(5,5))\n",
    "pylab.plot(x_values,y_values,'.')\n",
    "pylab.xlim(-400,400)\n",
    "pylab.ylim(-400,400)\n",
    "pylab.xlabel(\"X\")\n",
    "pylab.ylabel(\"Y\")\n",
    "pylab.title(\"The Golden Spiral\")"
   ]
  },
  {
   "cell_type": "markdown",
   "metadata": {},
   "source": [
    "This is a very interesting spiral indeed.\n",
    "\n",
    "http://www.goldennumber.net/wp-content/uploads/2013/08/nautilus-shell-with-golden-ratio-spiral-overlay.gif\n",
    "\n",
    "https://i.kinja-img.com/gawker-media/image/upload/s--rJC4FAZh--/c_fit,fl_progressive,q_80,w_636/18f8hbfn5ag1yjpg.jpg"
   ]
  },
  {
   "cell_type": "code",
   "execution_count": null,
   "metadata": {},
   "outputs": [],
   "source": []
  },
  {
   "cell_type": "code",
   "execution_count": null,
   "metadata": {},
   "outputs": [],
   "source": []
  }
 ],
 "metadata": {
  "kernelspec": {
   "display_name": "Python 3 (ipykernel)",
   "language": "python",
   "name": "python3"
  },
  "language_info": {
   "codemirror_mode": {
    "name": "ipython",
    "version": 3
   },
   "file_extension": ".py",
   "mimetype": "text/x-python",
   "name": "python",
   "nbconvert_exporter": "python",
   "pygments_lexer": "ipython3",
   "version": "3.10.9"
  }
 },
 "nbformat": 4,
 "nbformat_minor": 1
}
