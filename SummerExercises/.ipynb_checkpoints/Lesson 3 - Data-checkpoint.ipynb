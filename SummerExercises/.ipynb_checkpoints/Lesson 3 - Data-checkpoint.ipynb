{
 "cells": [
  {
   "cell_type": "code",
   "execution_count": 1,
   "metadata": {},
   "outputs": [],
   "source": [
    "#Imports etc\n",
    "import matplotlib \n",
    "import numpy\n",
    "import pylab\n",
    "%matplotlib inline"
   ]
  },
  {
   "cell_type": "markdown",
   "metadata": {},
   "source": [
    "Our goal today will be to study real LHC data. We processed it a bit for you, before you arrived.  We have picked out only events with at least two reconstructed leptons (electron or muon or antielectron or antimuon).  In every event we stored into a file the reconstructed energy and momentum of the most energetic two."
   ]
  },
  {
   "cell_type": "code",
   "execution_count": 2,
   "metadata": {},
   "outputs": [],
   "source": [
    "# First we have to open the file:\n",
    "Events=numpy.loadtxt(\"Events.txt\")"
   ]
  },
  {
   "cell_type": "markdown",
   "metadata": {},
   "source": [
    "This file is a list of numbers reconstructed from each event by complicated software of the ATLAS detector.\n",
    "\n",
    "Actually, with the full ATLAS event description, every event is described by around 100,000 numbers.  We pulled out only the 14 most useful numbers for this exercise.  In each event particle 1 is the reconstructed lepton with the highest pT, and particle 2 has the second highest.  The numbers we stored are:\n",
    "\n",
    "0) event number\n",
    "\n",
    "1) run number\n",
    "\n",
    "2) particle 1 P_x\n",
    "\n",
    "3) particle 1 P_y\n",
    "\n",
    "4) particle 1 P_z\n",
    "\n",
    "5) particle 1 E\n",
    "\n",
    "6) particle 1 charge\n",
    "\n",
    "7) particle 1 ID\n",
    "\n",
    "8) particle 2 P_x\n",
    "\n",
    "9) particle 2 P_y\n",
    "\n",
    "10) particle 2 P_z\n",
    "\n",
    "11) particle 2 E\n",
    "\n",
    "12) particle 2 charge\n",
    "\n",
    "13) particle 2 ID\n",
    "\n"
   ]
  },
  {
   "cell_type": "markdown",
   "metadata": {},
   "source": [
    "The events are just stored in a big numpy array.  Lets see how many events there are:"
   ]
  },
  {
   "cell_type": "code",
   "execution_count": 3,
   "metadata": {},
   "outputs": [
    {
     "name": "stdout",
     "output_type": "stream",
     "text": [
      "16186\n"
     ]
    }
   ],
   "source": [
    "print(len(Events))"
   ]
  },
  {
   "cell_type": "markdown",
   "metadata": {},
   "source": [
    "And lets look at the list of numbers in the first one:"
   ]
  },
  {
   "cell_type": "code",
   "execution_count": 4,
   "metadata": {},
   "outputs": [
    {
     "name": "stdout",
     "output_type": "stream",
     "text": [
      "[ 3.5612214e+07  2.1307900e+05  8.7624900e+01  6.8183800e+01\n",
      "  3.7705800e+02  3.9306400e+02 -1.0000000e+00  1.3000000e+01\n",
      "  1.0298200e+01  3.1087100e+00  3.0197100e+01  3.2056100e+01\n",
      "  1.0000000e+00 -1.3000000e+01]\n"
     ]
    }
   ],
   "source": [
    "print (Events[0])"
   ]
  },
  {
   "cell_type": "code",
   "execution_count": 5,
   "metadata": {},
   "outputs": [
    {
     "name": "stdout",
     "output_type": "stream",
     "text": [
      "[ 5.8474488e+07  2.1296700e+05  1.4495800e+01 -1.0491400e+02\n",
      " -5.7264100e+02  5.8235200e+02 -1.0000000e+00  1.3000000e+01\n",
      "  8.5092300e+00 -2.9264500e+01 -9.8184800e+01  1.0280600e+02\n",
      "  1.0000000e+00 -1.3000000e+01]\n"
     ]
    }
   ],
   "source": [
    "print (Events[9])"
   ]
  },
  {
   "cell_type": "code",
   "execution_count": 6,
   "metadata": {},
   "outputs": [
    {
     "name": "stdout",
     "output_type": "stream",
     "text": [
      "The energy is 582.352 GeV\n"
     ]
    }
   ],
   "source": [
    "# Exercise : Look up the energy of the highest pT lepton in the \n",
    "# 9th event (event number 9)\n",
    "\n",
    "print(\"The energy is\", Events[9,5], \"GeV\")\n"
   ]
  },
  {
   "cell_type": "code",
   "execution_count": 7,
   "metadata": {},
   "outputs": [
    {
     "name": "stdout",
     "output_type": "stream",
     "text": [
      "[ 6.2458574e+07  2.1296700e+05  1.2126300e+01 -2.2832600e+00\n",
      "  5.2827100e+00  1.3423000e+01  1.0000000e+00 -1.3000000e+01\n",
      "  9.8554700e+00  3.9862800e+00 -7.0487100e+00  1.2755600e+01\n",
      " -1.0000000e+00  1.1000000e+01]\n"
     ]
    }
   ],
   "source": [
    "print(Events[1000])"
   ]
  },
  {
   "cell_type": "code",
   "execution_count": 8,
   "metadata": {},
   "outputs": [
    {
     "name": "stdout",
     "output_type": "stream",
     "text": [
      "The charge is 1.0\n"
     ]
    }
   ],
   "source": [
    "# Exercise : Look up the charge of the second highest pT lepton \n",
    "# in the 1000th event\n",
    "\n",
    "\n",
    "print(\"The charge is\", Events[1000,6])\n"
   ]
  },
  {
   "cell_type": "code",
   "execution_count": 9,
   "metadata": {},
   "outputs": [
    {
     "data": {
      "image/png": "[encoded data removed]",
      "text/plain": [
       "<Figure size 500x500 with 1 Axes>"
      ]
     },
     "metadata": {},
     "output_type": "display_data"
    }
   ],
   "source": [
    "# Exercise : Histogram the energy of the highest pT leptons\n",
    "#            Histogram the energy of the next highest pT leptons\n",
    "#            use 100 bins between 0 and 1000 GeV\n",
    "#            show both histograms on the same plot\n",
    "#            label axes and add a legend\n",
    "\n",
    "pylab.figure(figsize=(5,5))\n",
    "pylab.hist(Events[:,5],label=\"Highest pT\",histtype='step',bins=100, range=(0,1000))\n",
    "pylab.hist(Events[:,11],label=\"Second pT\",histtype='step',bins=100, range=(0,1000))\n",
    "pylab.xlabel(\"Energy/GeV\",fontsize=14)\n",
    "pylab.ylabel(\"Number\",fontsize=14)\n",
    "pylab.legend(loc=1)\n",
    "pylab.show()\n",
    "\n"
   ]
  },
  {
   "cell_type": "code",
   "execution_count": 10,
   "metadata": {},
   "outputs": [
    {
     "name": "stdout",
     "output_type": "stream",
     "text": [
      "++ 474\n",
      "+- 7579\n",
      "-+ 7737\n",
      "-- 396\n"
     ]
    }
   ],
   "source": [
    "# Exercise : How many events have first and second leptons with +ve charge?\n",
    "#            How many with both -ve?\n",
    "#            How many +-?  How many -+?\n",
    "#            Which are the most common categories?\n",
    "\n",
    "\n",
    "PlusPlus=0\n",
    "MinusMinus=0\n",
    "PlusMinus=0\n",
    "MinusPlus=0\n",
    "\n",
    "for E in Events:\n",
    "    if E[6]==1 and E[12]==1:\n",
    "        PlusPlus=PlusPlus+1\n",
    "    if E[6]==-1 and E[12]==1:\n",
    "        MinusPlus=MinusPlus+1\n",
    "    if E[6]==1 and E[12]==-1:\n",
    "        PlusMinus=PlusMinus+1\n",
    "    if E[6]==-1 and E[12]==-1:\n",
    "        MinusMinus=MinusMinus+1\n",
    "print(\"++\",PlusPlus)\n",
    "print(\"+-\",PlusMinus)\n",
    "print(\"-+\",MinusPlus)\n",
    "print(\"--\",MinusMinus)\n"
   ]
  },
  {
   "cell_type": "markdown",
   "metadata": {},
   "source": [
    "In particle physics we use special number codes for different particle types.  The list of codes is maintained by the Particle Data Group, so we call them PDG ID's.  Here is the full list of PDG IDs:\n",
    "\n",
    "http://pdg.lbl.gov/2007/reviews/montecarlorpp.pdf\n",
    "\n",
    "Look up the ID for electrons and muons, then try the next exercise. Note that particles have +ve PDG and antiparticles have negative ones.  You can turn them all positive using the abs() command."
   ]
  },
  {
   "cell_type": "code",
   "execution_count": 11,
   "metadata": {},
   "outputs": [
    {
     "name": "stdout",
     "output_type": "stream",
     "text": [
      "Number of ee events 1366\n",
      "Number of mumu events 0\n",
      "Number of mue events 3655\n"
     ]
    }
   ],
   "source": [
    "# Exercise : Separate the events into three sets\n",
    "#             1) Events with two muons or antimuons\n",
    "#             2) Events with two electrons or positrons\n",
    "#             3) Events with one muon/antimuon and one electron/positron\n",
    "#            Put each set into a new list\n",
    "#            How many are in each category?\n",
    "\n",
    "MuonMuon=[]\n",
    "MuonElec=[]\n",
    "ElecElec=[]\n",
    "\n",
    "for E in Events:\n",
    "    if abs(E[7])==11 and abs(E[13])==11:\n",
    "        ElecElec.append(E)\n",
    "        if abs(E[7])==13 and abs(E[13])==13:\n",
    "            MuonMuon.append(E)\n",
    "    if (abs(E[7])==13 and abs(E[13])==11) or (abs(E[7])==11 and abs(E[13])==13):\n",
    "            MuonElec.append(E)\n",
    "print(\"Number of ee events\", len(ElecElec))\n",
    "print(\"Number of mumu events\", len(MuonMuon))\n",
    "print(\"Number of mue events\", len(MuonElec))\n"
   ]
  },
  {
   "cell_type": "markdown",
   "metadata": {
    "collapsed": true
   },
   "source": [
    "In python, it is possible to save the array easily to a text file. For example, the line below re-saves the full events array to a text file called EventsNew.txt"
   ]
  },
  {
   "cell_type": "code",
   "execution_count": 12,
   "metadata": {},
   "outputs": [],
   "source": [
    "numpy.savetxt(\"EventsNew.txt\",Events)"
   ]
  },
  {
   "cell_type": "code",
   "execution_count": 13,
   "metadata": {},
   "outputs": [],
   "source": [
    "# Exercise : Save to three text files, the contents of your separated\n",
    "#            sets of particles.  We will use these tomorrow to search for \n",
    "#            new particles.\n",
    "\n",
    "numpy.savetxt(\"ee.txt\",ElecElec)\n",
    "numpy.savetxt(\"mumu.txt\",MuonMuon)\n",
    "numpy.savetxt(\"emu.txt\",MuonElec)"
   ]
  },
  {
   "cell_type": "code",
   "execution_count": 23,
   "metadata": {},
   "outputs": [],
   "source": [
    "# Open exercise : Explore the LHC data! Make plots of various\n",
    "#                  quantities and look for interesting effects.\n",
    "#\n",
    "#            Ideas:\n",
    "#               Do events with two muons or two electrons have different\n",
    "#                 properties to events with one of each?\n",
    "#\n",
    "#               What types of events have mostly same-charge particles in?\n",
    "#\n",
    "#               Do the energies of the same-sign events look similar\n",
    "#                 to the energies of the different-sign events?\n",
    "\n"
   ]
  },
  {
   "cell_type": "code",
   "execution_count": 24,
   "metadata": {},
   "outputs": [
    {
     "name": "stdout",
     "output_type": "stream",
     "text": [
      "\n",
      "Events with Muons:\n",
      "       event_number  run_number  particle1_Px  particle1_Py  particle1_Pz  \\\n",
      "0        35612214.0    213079.0      87.62490       68.1838      377.0580   \n",
      "1       147584362.0    213092.0      27.27390      -60.2142      118.9270   \n",
      "2        80305403.0    212687.0     -78.28890       35.0723       33.1956   \n",
      "3        50397361.0    213130.0     149.12000       47.6874      -64.8383   \n",
      "4       117846275.0    213130.0     -95.38500      -22.9044       34.9965   \n",
      "...             ...         ...           ...           ...           ...   \n",
      "16181   272495776.0    213039.0      -7.58781      172.5570     -130.9100   \n",
      "16182    14624907.0    212619.0     116.15400      159.4690       38.6294   \n",
      "16183   125291358.0    213092.0    -498.69800     -211.4990    -1061.2500   \n",
      "16184    94687982.0    212993.0     105.45100       27.2500     -624.0190   \n",
      "16185   152457982.0    213039.0      48.79850      127.8270     -203.7300   \n",
      "\n",
      "       particle1_E  particle1_charge  particle1_ID  particle2_Px  \\\n",
      "0         393.0640              -1.0          13.0     10.298200   \n",
      "1         136.0640               1.0         -13.0     59.350900   \n",
      "2          91.9847               1.0         -13.0     16.063300   \n",
      "3         169.4550               1.0         -13.0     -0.321775   \n",
      "4         104.1520               1.0         -13.0     17.910400   \n",
      "...            ...               ...           ...           ...   \n",
      "16181     216.7280              -1.0          13.0      0.344734   \n",
      "16182     201.0330               1.0         -13.0     45.990600   \n",
      "16183    1191.5000              -1.0          13.0    -12.115600   \n",
      "16184     633.4530               1.0         -13.0      1.957150   \n",
      "16185     245.4120              -1.0          13.0      9.662920   \n",
      "\n",
      "       particle2_Py  particle2_Pz  particle2_E  particle2_charge  \\\n",
      "0           3.10871      30.19710      32.0561               1.0   \n",
      "1         -15.30760      -8.61567      61.8959              -1.0   \n",
      "2           2.39620     -23.37610      28.4644              -1.0   \n",
      "3         -16.56900     -24.51650      29.5924              -1.0   \n",
      "4         -12.27850      29.01020      36.2374              -1.0   \n",
      "...             ...           ...          ...               ...   \n",
      "16181      10.35550      -8.09330      13.1479               1.0   \n",
      "16182      46.42500      12.93200      66.6158              -1.0   \n",
      "16183     -17.82410     -85.37950      88.0577               1.0   \n",
      "16184     -13.96890     -13.42020      19.4698              -1.0   \n",
      "16185     -32.56010     164.36500     167.8370               1.0   \n",
      "\n",
      "       particle2_ID  total_energy     momentum  \n",
      "0             -13.0      425.1201   394.369713  \n",
      "1              13.0      197.9599   149.480195  \n",
      "2              13.0      120.4491    96.288002  \n",
      "3              13.0      199.0474   172.019074  \n",
      "4              13.0      140.3894   110.276019  \n",
      "...             ...           ...          ...  \n",
      "16181         -13.0      229.8759   217.126180  \n",
      "16182          13.0      267.6488   211.782900  \n",
      "16183         -13.0     1279.5577  1194.754046  \n",
      "16184          13.0      652.9228   633.751726  \n",
      "16185         -11.0      413.2490   297.315209  \n",
      "\n",
      "[12856 rows x 16 columns]\n",
      "\n",
      "Events with Electrons:\n",
      "       event_number  run_number  particle1_Px  particle1_Py  particle1_Pz  \\\n",
      "7       109637139.0    213250.0     -37.61130     -10.14720      -11.9251   \n",
      "8       108332868.0    213130.0    -158.23100     -28.85050     -199.5780   \n",
      "14       46422254.0    212967.0     -76.50560     -46.70240      -92.6432   \n",
      "21       85121562.0    212858.0    -156.17700      61.45740     -169.5660   \n",
      "22       70009272.0    212967.0     -13.01350      32.84090       45.9081   \n",
      "...             ...         ...           ...           ...           ...   \n",
      "16152   130725485.0    213250.0     -34.70670      66.77410     -155.0680   \n",
      "16164   158694021.0    212858.0       5.32028     -25.77520      -25.6768   \n",
      "16171   144002160.0    213039.0     -22.36560      44.73860      -38.8100   \n",
      "16172    40947244.0    212967.0     -26.38490       3.78822       88.1810   \n",
      "16175    67695641.0    213250.0      -1.30462     -16.27720       63.5810   \n",
      "\n",
      "       particle1_E  particle1_charge  particle1_ID  particle2_Px  \\\n",
      "7          40.7406               1.0         -13.0       7.63585   \n",
      "8         256.3210               1.0         -11.0     -27.70240   \n",
      "14        128.9070              -1.0          11.0      63.51000   \n",
      "21        238.5810               1.0         -13.0      43.78130   \n",
      "22         57.9262               1.0         -13.0      19.29930   \n",
      "...            ...               ...           ...           ...   \n",
      "16152     172.3640               1.0         -11.0       8.80133   \n",
      "16164      36.7690              -1.0          11.0      12.07880   \n",
      "16171      63.3087               1.0         -13.0      27.14790   \n",
      "16172      92.1217               1.0         -13.0      -5.68887   \n",
      "16175      65.6445              -1.0          11.0       2.12892   \n",
      "\n",
      "       particle2_Py  particle2_Pz  particle2_E  particle2_charge  \\\n",
      "7          13.32760      68.98300      70.6724              -1.0   \n",
      "8          38.76890     -62.91160      78.9197              -1.0   \n",
      "14         36.79620      60.19010      94.9228               1.0   \n",
      "21         13.97280       3.23355      46.0705              -1.0   \n",
      "22          2.36222     -10.17560      21.9450              -1.0   \n",
      "...             ...           ...          ...               ...   \n",
      "16152      10.06280       9.70493      16.5199              -1.0   \n",
      "16164      -7.69053     -13.30570      19.5470               1.0   \n",
      "16171      31.41970      -6.44930      42.0214              -1.0   \n",
      "16172       8.72562     -33.75740      35.3279              -1.0   \n",
      "16175      10.35130       4.54546      11.5041               1.0   \n",
      "\n",
      "       particle2_ID  total_energy    momentum  \n",
      "7              11.0      111.4130   81.574316  \n",
      "8              11.0      335.2407  268.196008  \n",
      "14            -13.0      223.8298  160.085327  \n",
      "21             11.0      284.6515  242.988463  \n",
      "22             11.0       79.8712   61.943647  \n",
      "...             ...           ...         ...  \n",
      "16152          11.0      188.8839  173.154062  \n",
      "16164         -11.0       56.3160   41.641898  \n",
      "16171          11.0      105.3301   75.985380  \n",
      "16172          11.0      127.4496   98.663388  \n",
      "16175         -11.0       77.1486   66.644848  \n",
      "\n",
      "[3102 rows x 16 columns]\n",
      "\n",
      "Events with Two Muons:\n",
      "       event_number  run_number  particle1_Px  particle1_Py  particle1_Pz  \\\n",
      "214      56356574.0    212721.0     -85.77290      64.20710     -155.3670   \n",
      "684      15416184.0    212687.0     -82.36080      -5.53391     -331.2690   \n",
      "781      62553374.0    213250.0      47.72400      31.00990     -105.6340   \n",
      "1551    131524294.0    212815.0      25.71810       2.05799       54.5656   \n",
      "1618     66561004.0    213130.0     -16.96920      20.45540      -31.2418   \n",
      "...             ...         ...           ...           ...           ...   \n",
      "15096   119249481.0    213039.0     -23.22820     -24.69980       26.9704   \n",
      "15728   113601446.0    213130.0       3.56581      18.91700       13.8926   \n",
      "15976    53242729.0    212858.0       5.10175     -28.13920      -40.2513   \n",
      "16018   205835036.0    213039.0     -89.61700      93.36560     -255.9490   \n",
      "16085   204436702.0    213039.0     -60.01570      94.39820      -12.7036   \n",
      "\n",
      "       particle1_E  particle1_charge  particle1_ID  particle2_Px  \\\n",
      "214       188.7280              -1.0          13.0      23.67720   \n",
      "684       341.3980              -1.0          13.0      17.56270   \n",
      "781       119.9900              -1.0          13.0      -6.70574   \n",
      "1551       60.3579              -1.0          13.0      15.81690   \n",
      "1618       41.0176              -1.0          13.0      10.95080   \n",
      "...            ...               ...           ...           ...   \n",
      "15096      43.3249              -1.0          13.0       1.81966   \n",
      "15728      23.7399              -1.0          13.0      -5.80164   \n",
      "15976      49.3763              -1.0          13.0      12.48170   \n",
      "16018     286.8070              -1.0          13.0      -7.50106   \n",
      "16085     112.5800              -1.0          13.0       4.42633   \n",
      "\n",
      "       particle2_Py  particle2_Pz  particle2_E  particle2_charge  \\\n",
      "214        -8.14539     -16.04300      29.7380              -1.0   \n",
      "684        -3.98677     -35.91500      40.1776              -1.0   \n",
      "781         7.93456     -13.24720      16.8352              -1.0   \n",
      "1551       -1.19771      39.72850      42.7782              -1.0   \n",
      "1618        2.58916      13.56950      17.6285              -1.0   \n",
      "...             ...           ...          ...               ...   \n",
      "15096      -9.89242      -9.78226      14.0312              -1.0   \n",
      "15728       8.34560       7.26535      12.4942              -1.0   \n",
      "15976       5.81803      -4.31055      14.4303              -1.0   \n",
      "16018      -8.24729     -27.37130      29.5547              -1.0   \n",
      "16085     -13.59850     -40.67680      43.1176              -1.0   \n",
      "\n",
      "       particle2_ID  total_energy    momentum  \n",
      "214            13.0      218.4660  191.057012  \n",
      "684            13.0      381.5756  343.754718  \n",
      "781            13.0      136.8252  121.165789  \n",
      "1551           13.0      103.1361   73.979884  \n",
      "1618           13.0       58.6461   44.645070  \n",
      "...             ...           ...         ...  \n",
      "15096          13.0       57.3561   45.540044  \n",
      "15728          13.0       36.2341   26.826584  \n",
      "15976          13.0       63.8066   51.441547  \n",
      "16018          13.0      316.3617  288.325691  \n",
      "16085          13.0      155.6976  120.554550  \n",
      "\n",
      "[61 rows x 16 columns]\n",
      "\n",
      "Events with Two Electrons:\n",
      "       event_number  run_number  particle1_Px  particle1_Py  particle1_Pz  \\\n",
      "66       59337400.0    213130.0      12.00750     -35.10450       55.2767   \n",
      "112     125769115.0    213250.0     -89.69140     -61.13210       49.4240   \n",
      "211      89482253.0    213079.0      -7.69254       9.15351      -30.6285   \n",
      "286     129136831.0    212967.0      41.56250      31.81670      -60.5121   \n",
      "338     147085834.0    212721.0     -19.81260     -33.49250      112.4200   \n",
      "...             ...         ...           ...           ...           ...   \n",
      "15184   140130327.0    212742.0     -28.36100      87.22730       69.0131   \n",
      "15313    92167522.0    213092.0     -31.75570      25.24700       80.2055   \n",
      "15597   143429581.0    212721.0     -24.10890      16.03510       36.8810   \n",
      "15610   145678623.0    212993.0     -11.91580      21.32800      -56.0835   \n",
      "15823   200765313.0    212858.0       9.15976     -16.89280      -39.9146   \n",
      "\n",
      "       particle1_E  particle1_charge  particle1_ID  particle2_Px  \\\n",
      "66         66.5734              -1.0          11.0     -20.70480   \n",
      "112       119.2660              -1.0          11.0      12.83920   \n",
      "211        32.8796              -1.0          11.0     -10.32050   \n",
      "286        80.0091              -1.0          11.0      -6.25879   \n",
      "338       118.9650              -1.0          11.0       8.24380   \n",
      "...            ...               ...           ...           ...   \n",
      "15184     114.7860              -1.0          11.0      -8.08022   \n",
      "15313      89.8819              -1.0          11.0      -8.37505   \n",
      "15597      46.8889              -1.0          11.0      12.06370   \n",
      "15610      61.1738              -1.0          11.0       2.30429   \n",
      "15823      44.2995              -1.0          11.0      13.01230   \n",
      "\n",
      "       particle2_Py  particle2_Pz  particle2_E  particle2_charge  \\\n",
      "66         20.18440      14.90800      32.5323              -1.0   \n",
      "112        -3.01541      -9.15452      16.0544              -1.0   \n",
      "211         5.00159     -47.61010      48.9719              -1.0   \n",
      "286        -8.97075      -4.31688      11.7593              -1.0   \n",
      "338         9.60842     -20.90530      24.4400              -1.0   \n",
      "...             ...           ...          ...               ...   \n",
      "15184     -14.24510     -14.48880      21.8664              -1.0   \n",
      "15313       5.90779      12.76390      16.3695              -1.0   \n",
      "15597       8.54358      -6.23341      16.0431              -1.0   \n",
      "15610     -12.44820      28.73070      31.3962              -1.0   \n",
      "15823      -3.18483     -36.88380      39.2413              -1.0   \n",
      "\n",
      "       particle2_ID  total_energy    momentum  \n",
      "66             11.0       99.1057   74.097009  \n",
      "112            11.0      135.3204  120.341828  \n",
      "211            11.0       81.8515   58.985737  \n",
      "286            11.0       91.7684   80.868661  \n",
      "338            11.0      143.4050  121.448988  \n",
      "...             ...           ...         ...  \n",
      "15184          11.0      136.6524  116.849879  \n",
      "15313          11.0      106.2514   91.360376  \n",
      "15597          11.0       62.9320   49.557569  \n",
      "15610          11.0       92.5700   68.760086  \n",
      "15823          11.0       83.5408   59.180410  \n",
      "\n",
      "[89 rows x 16 columns]\n",
      "\n",
      "Events with One Muon and One Electron:\n",
      "       event_number  run_number  particle1_Px  particle1_Py  particle1_Pz  \\\n",
      "247      98146192.0    213079.0     16.641000     -77.55670      88.21750   \n",
      "391      60560747.0    213155.0    -16.188200      30.97000     -14.50910   \n",
      "397      45488995.0    213155.0     -0.823727      23.13310     -10.25710   \n",
      "410      64250721.0    212742.0     11.858300       9.91185      12.80290   \n",
      "448     213760398.0    213039.0     -0.104716      15.33490      31.09090   \n",
      "...             ...         ...           ...           ...           ...   \n",
      "15847   140031457.0    213092.0     -5.709930     -24.70830     -48.53980   \n",
      "15870    67959535.0    212858.0     33.369300      46.25860       1.00083   \n",
      "16025    57067791.0    213130.0      3.822590     -53.25910    -106.09200   \n",
      "16038    67617870.0    212663.0    -45.672100       9.97754     -38.27150   \n",
      "16064   119435585.0    212993.0     -7.732180      23.39350     -10.97360   \n",
      "\n",
      "       particle1_E  particle1_charge  particle1_ID  particle2_Px  \\\n",
      "247       118.6350              -1.0          13.0     -9.610560   \n",
      "391        37.8381              -1.0          13.0      0.185089   \n",
      "397        25.3185              -1.0          11.0     14.893600   \n",
      "410        20.0697              -1.0          13.0     10.199100   \n",
      "448        34.6673              -1.0          13.0      4.629520   \n",
      "...            ...               ...           ...           ...   \n",
      "15847      54.7651              -1.0          11.0     -7.177290   \n",
      "15870      57.0470              -1.0          11.0     10.175300   \n",
      "16025     118.7710              -1.0          13.0    -30.196500   \n",
      "16038      60.4169              -1.0          13.0    -12.221400   \n",
      "16064      26.9715              -1.0          11.0      0.202193   \n",
      "\n",
      "       particle2_Py  particle2_Pz  particle2_E  particle2_charge  \\\n",
      "247         5.45050     -8.582700      13.9905              -1.0   \n",
      "391        22.29550    -67.650700      71.2302              -1.0   \n",
      "397         6.10636     -0.805026      16.1173              -1.0   \n",
      "410        -8.95072    -13.227000      18.9497              -1.0   \n",
      "448       -11.81200     24.825600      27.8795              -1.0   \n",
      "...             ...           ...          ...               ...   \n",
      "15847      14.88290    -79.589600      81.2867              -1.0   \n",
      "15870      13.26160      4.944680      17.4318              -1.0   \n",
      "16025      15.81510    118.353000     123.1640              -1.0   \n",
      "16038       3.06177    -10.744400      16.5584              -1.0   \n",
      "16064      12.91630     -7.270550      14.8237              -1.0   \n",
      "\n",
      "       particle2_ID  total_energy    momentum  \n",
      "247            11.0      132.6255  119.457212  \n",
      "391            11.0      109.0683   80.656392  \n",
      "397            13.0       41.4358   30.013030  \n",
      "410            11.0       39.0194   27.601972  \n",
      "448            11.0       62.5468   44.486856  \n",
      "...             ...           ...         ...  \n",
      "15847          13.0      136.0518   98.013949  \n",
      "15870          13.0       74.4788   59.650872  \n",
      "16025          11.0      241.9350  171.102411  \n",
      "16038          11.0       76.9753   62.644863  \n",
      "16064          13.0       41.7952   30.776532  \n",
      "\n",
      "[246 rows x 16 columns]\n"
     ]
    },
    {
     "data": {
      "image/png": "[encoded data removed]",
      "text/plain": [
       "<Figure size 640x480 with 1 Axes>"
      ]
     },
     "metadata": {},
     "output_type": "display_data"
    },
    {
     "data": {
      "image/png": "[encoded data removed]",
      "text/plain": [
       "<Figure size 640x480 with 1 Axes>"
      ]
     },
     "metadata": {},
     "output_type": "display_data"
    }
   ],
   "source": [
    "import numpy as np\n",
    "import pandas as pd\n",
    "\n",
    "# Step 1: Load the data\n",
    "Events = np.loadtxt(\"Events.txt\")\n",
    "\n",
    "# Define column names\n",
    "columns = ['event_number', 'run_number', \n",
    "           'particle1_Px', 'particle1_Py', 'particle1_Pz', 'particle1_E', 'particle1_charge', 'particle1_ID',\n",
    "           'particle2_Px', 'particle2_Py', 'particle2_Pz', 'particle2_E', 'particle2_charge', 'particle2_ID']\n",
    "\n",
    "# Step 2: Convert the NumPy array to a Pandas DataFrame\n",
    "df = pd.DataFrame(Events, columns=columns)\n",
    "\n",
    "#Add a column for total energy and momentum of each event\n",
    "df['total_energy'] = df['particle1_E'] + df['particle2_E']\n",
    "df['momentum'] = np.sqrt(df['particle1_Px']**2 + df['particle1_Py']**2 + df['particle1_Pz']**2 + \n",
    "                         df['particle2_Px']**2 + df['particle2_Py']**2 + df['particle2_Pz']**2)\n",
    "\n",
    "# Define particle IDs for muons and electrons\n",
    "muon_id = 13\n",
    "electron_id = 11\n",
    "\n",
    "# Step 3: Filter based on particle IDs\n",
    "muons = df[(df['particle1_ID'] == muon_id) | (df['particle2_ID'] == muon_id)]\n",
    "electrons = df[(df['particle1_ID'] == electron_id) | (df['particle2_ID'] == electron_id)]\n",
    "\n",
    "# Print the results to verify\n",
    "print(\"\\nEvents with Muons:\")\n",
    "print(muons)\n",
    "\n",
    "print(\"\\nEvents with Electrons:\")\n",
    "print(electrons)\n",
    "\n",
    "# Step 4: Separate events with two muons, two electrons, and one of each\n",
    "# Separate events with two muons\n",
    "two_muons = df[((df['particle1_ID'] == muon_id) & (df['particle2_ID'] == muon_id))]\n",
    "\n",
    "# Separate events with two electrons\n",
    "two_electrons = df[((df['particle1_ID'] == electron_id) & (df['particle2_ID'] == electron_id))]\n",
    "\n",
    "# Separate events with one muon and one electron\n",
    "one_of_each = df[((df['particle1_ID'] == muon_id) & (df['particle2_ID'] == electron_id)) |\n",
    "                 ((df['particle1_ID'] == electron_id) & (df['particle2_ID'] == muon_id))]\n",
    "\n",
    "# Print the results to verify\n",
    "print(\"\\nEvents with Two Muons:\")\n",
    "print(two_muons)\n",
    "\n",
    "print(\"\\nEvents with Two Electrons:\")\n",
    "print(two_electrons)\n",
    "\n",
    "print(\"\\nEvents with One Muon and One Electron:\")\n",
    "print(one_of_each)\n",
    "\n",
    "\n",
    "# Separate same-sign and different-sign events\n",
    "same_sign = df[df['particle1_charge'] == df['particle2_charge']]\n",
    "different_sign = df[df['particle1_charge'] != df['particle2_charge']]\n",
    "\n",
    "# Extract energies for same-sign and different-sign events\n",
    "same_sign_energies = same_sign['total_energy']\n",
    "different_sign_energies = different_sign['total_energy']\n",
    "\n",
    "# Create histograms to compare energies\n",
    "plt.hist(same_sign_energies, bins=50, alpha=0.5, label='Same Sign')\n",
    "plt.hist(different_sign_energies, bins=50, alpha=0.5, label='Different Sign')\n",
    "plt.xlabel('Total Energy')\n",
    "plt.ylabel('Number of Events')\n",
    "plt.legend(loc='upper right')\n",
    "plt.title('Same-Sign vs Different-Sign of Events')\n",
    "plt.show()\n",
    "\n",
    "# Scatter plot of energy vs momentum for same-sign and different-sign events\n",
    "plt.scatter(same_sign['momentum'], same_sign['total_energy'], alpha=0.5, label='Same Sign')\n",
    "plt.scatter(different_sign['momentum'], different_sign['total_energy'], alpha=0.5, label='Different Sign')\n",
    "plt.xlabel('Momentum')\n",
    "plt.ylabel('Total Energy')\n",
    "plt.legend(loc='upper right')\n",
    "plt.title('Same-Sign vs Different-Sign of Events')\n",
    "plt.show()\n"
   ]
  },
  {
   "cell_type": "code",
   "execution_count": null,
   "metadata": {},
   "outputs": [],
   "source": []
  }
 ],
 "metadata": {
  "kernelspec": {
   "display_name": "Python 3 (ipykernel)",
   "language": "python",
   "name": "python3"
  },
  "language_info": {
   "codemirror_mode": {
    "name": "ipython",
    "version": 3
   },
   "file_extension": ".py",
   "mimetype": "text/x-python",
   "name": "python",
   "nbconvert_exporter": "python",
   "pygments_lexer": "ipython3",
   "version": "3.10.9"
  }
 },
 "nbformat": 4,
 "nbformat_minor": 1
}
