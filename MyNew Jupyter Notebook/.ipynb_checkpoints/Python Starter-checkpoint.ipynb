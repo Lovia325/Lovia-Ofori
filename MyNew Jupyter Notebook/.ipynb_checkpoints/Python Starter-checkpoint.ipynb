{
 "cells": [
  {
   "cell_type": "code",
   "execution_count": 1,
   "id": "fd99346d",
   "metadata": {},
   "outputs": [
    {
     "ename": "SyntaxError",
     "evalue": "invalid syntax (2892421702.py, line 1)",
     "output_type": "error",
     "traceback": [
      "\u001b[1;36m  Cell \u001b[1;32mIn[1], line 1\u001b[1;36m\u001b[0m\n\u001b[1;33m    <h1 style=\"font size:3rem;color:orange;\">Jupyter Notebook Tutorial</h>\u001b[0m\n\u001b[1;37m    ^\u001b[0m\n\u001b[1;31mSyntaxError\u001b[0m\u001b[1;31m:\u001b[0m invalid syntax\n"
     ]
    }
   ],
   "source": [
    "<h1 style=\"font size:3rem;color:orange;\">Jupyter Notebook Tutorial</h>"
   ]
  },
  {
   "cell_type": "markdown",
   "id": "f43aa061",
   "metadata": {},
   "source": []
  },
  {
   "cell_type": "markdown",
   "id": "177e01de",
   "metadata": {},
   "source": [
    "<h1 style=\"font-size:3rem;color:orange;\"> Jupyter Notebook Tutorial</h1>"
   ]
  },
  {
   "cell_type": "markdown",
   "id": "18b5e774",
   "metadata": {},
   "source": [
    "# Python for Beginners"
   ]
  },
  {
   "cell_type": "code",
   "execution_count": 2,
   "id": "68d8c94a",
   "metadata": {},
   "outputs": [
    {
     "ename": "SyntaxError",
     "evalue": "invalid syntax (3488304193.py, line 1)",
     "output_type": "error",
     "traceback": [
      "\u001b[1;36m  Cell \u001b[1;32mIn[2], line 1\u001b[1;36m\u001b[0m\n\u001b[1;33m    <img src=\"https://picsum.photos/id/0/400/400\">\u001b[0m\n\u001b[1;37m    ^\u001b[0m\n\u001b[1;31mSyntaxError\u001b[0m\u001b[1;31m:\u001b[0m invalid syntax\n"
     ]
    }
   ],
   "source": [
    "<img src=\"https://picsum.photos/id/0/400/400\">"
   ]
  },
  {
   "cell_type": "code",
   "execution_count": 3,
   "id": "72a76c1d",
   "metadata": {},
   "outputs": [
    {
     "ename": "SyntaxError",
     "evalue": "invalid syntax (869380763.py, line 1)",
     "output_type": "error",
     "traceback": [
      "\u001b[1;36m  Cell \u001b[1;32mIn[3], line 1\u001b[1;36m\u001b[0m\n\u001b[1;33m    <img src=\"https://www.google.com/url?sa=i&rct=j&q=&esrc=s&source=web&cd=&ved=0CDgQw7AJahcKEwiwmsP5x6__AhUAAAAAHQAAAAAQBg&url=https%3A%2F%2Funsplash.com%2Fs%2Fphotos%2Flaptop&psig=AOvVaw3qJzx7FNRH-JxY8gmWM7F_&ust=1686172432504500\">\u001b[0m\n\u001b[1;37m    ^\u001b[0m\n\u001b[1;31mSyntaxError\u001b[0m\u001b[1;31m:\u001b[0m invalid syntax\n"
     ]
    }
   ],
   "source": [
    "<img src=\"https://www.google.com/url?sa=i&rct=j&q=&esrc=s&source=web&cd=&ved=0CDgQw7AJahcKEwiwmsP5x6__AhUAAAAAHQAAAAAQBg&url=https%3A%2F%2Funsplash.com%2Fs%2Fphotos%2Flaptop&psig=AOvVaw3qJzx7FNRH-JxY8gmWM7F_&ust=1686172432504500\">"
   ]
  },
  {
   "cell_type": "markdown",
   "id": "ebad596b",
   "metadata": {},
   "source": [
    "## Basic output"
   ]
  },
  {
   "cell_type": "code",
   "execution_count": 4,
   "id": "e91af739",
   "metadata": {},
   "outputs": [
    {
     "name": "stdout",
     "output_type": "stream",
     "text": [
      "Hello World!\n"
     ]
    }
   ],
   "source": [
    "print(\"Hello World!\")"
   ]
  },
  {
   "cell_type": "markdown",
   "id": "606d49ec",
   "metadata": {},
   "source": [
    "## Insert a variable into a string"
   ]
  },
  {
   "cell_type": "code",
   "execution_count": 6,
   "id": "2b2646eb",
   "metadata": {},
   "outputs": [
    {
     "name": "stdout",
     "output_type": "stream",
     "text": [
      "What's your name?Lovia\n",
      "Hello, Lovia!\n"
     ]
    }
   ],
   "source": [
    "person=input(\"What's your name?\")\n",
    "message=\"Hello, {}!\".format(person)\n",
    "print(message)"
   ]
  },
  {
   "cell_type": "markdown",
   "id": "9865c445",
   "metadata": {},
   "source": [
    "## Multiline string and string length"
   ]
  },
  {
   "cell_type": "code",
   "execution_count": 7,
   "id": "faa08567",
   "metadata": {},
   "outputs": [
    {
     "name": "stdout",
     "output_type": "stream",
     "text": [
      "once upon a time\n",
      "there lived a beautiful princess\n",
      "who lived in a tower in the deep forest\n",
      "89\n"
     ]
    }
   ],
   "source": [
    "story=\"\"\"once upon a time\n",
    "there lived a beautiful princess\n",
    "who lived in a tower in the deep forest\"\"\"\n",
    "print(story)\n",
    "print(len(story))"
   ]
  },
  {
   "cell_type": "markdown",
   "id": "b16e2333",
   "metadata": {},
   "source": [
    "## Math operation"
   ]
  },
  {
   "cell_type": "code",
   "execution_count": 8,
   "id": "e56de1a4",
   "metadata": {},
   "outputs": [
    {
     "name": "stdout",
     "output_type": "stream",
     "text": [
      "3.5\n",
      "5\n"
     ]
    }
   ],
   "source": [
    "x= 7\n",
    "y= 10\n",
    "z= (x*5)/ y\n",
    "m= (x*5)% y #modular returns the remainder\n",
    "print(z)\n",
    "print(m)\n",
    "\n"
   ]
  },
  {
   "cell_type": "markdown",
   "id": "2ea7ddf9",
   "metadata": {},
   "source": [
    "## Lists"
   ]
  },
  {
   "cell_type": "code",
   "execution_count": 9,
   "id": "a0591aea",
   "metadata": {},
   "outputs": [
    {
     "name": "stdout",
     "output_type": "stream",
     "text": [
      "Pap\n"
     ]
    }
   ],
   "source": [
    "family= ['Celestina','Pap','Ella','Kofi','Eliof','Janet']\n",
    "print(family[1])"
   ]
  },
  {
   "cell_type": "code",
   "execution_count": null,
   "id": "e94d7142",
   "metadata": {},
   "outputs": [],
   "source": []
  }
 ],
 "metadata": {
  "kernelspec": {
   "display_name": "Python 3 (ipykernel)",
   "language": "python",
   "name": "python3"
  },
  "language_info": {
   "codemirror_mode": {
    "name": "ipython",
    "version": 3
   },
   "file_extension": ".py",
   "mimetype": "text/x-python",
   "name": "python",
   "nbconvert_exporter": "python",
   "pygments_lexer": "ipython3",
   "version": "3.10.9"
  }
 },
 "nbformat": 4,
 "nbformat_minor": 5
}
