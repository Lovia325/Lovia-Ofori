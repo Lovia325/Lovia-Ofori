{
 "cells": [
  {
   "cell_type": "code",
   "execution_count": 2,
   "id": "3dcee8ae",
   "metadata": {},
   "outputs": [
    {
     "name": "stdout",
     "output_type": "stream",
     "text": [
      "Lovia\n"
     ]
    }
   ],
   "source": [
    "print(\"Lovia\")"
   ]
  },
  {
   "cell_type": "code",
   "execution_count": null,
   "id": "86754405",
   "metadata": {},
   "outputs": [],
   "source": [
    " input(\"what is your name?\")"
   ]
  },
  {
   "cell_type": "code",
   "execution_count": null,
   "id": "c94632ad",
   "metadata": {},
   "outputs": [],
   "source": [
    "name = input(\"what is your name?\")\n",
    "print(name)"
   ]
  },
  {
   "cell_type": "code",
   "execution_count": null,
   "id": "73e815df",
   "metadata": {},
   "outputs": [],
   "source": []
  },
  {
   "cell_type": "code",
   "execution_count": null,
   "id": "ab78387e",
   "metadata": {},
   "outputs": [],
   "source": []
  }
 ],
 "metadata": {
  "kernelspec": {
   "display_name": "Python 3 (ipykernel)",
   "language": "python",
   "name": "python3"
  },
  "language_info": {
   "codemirror_mode": {
    "name": "ipython",
    "version": 3
   },
   "file_extension": ".py",
   "mimetype": "text/x-python",
   "name": "python",
   "nbconvert_exporter": "python",
   "pygments_lexer": "ipython3",
   "version": "3.10.9"
  }
 },
 "nbformat": 4,
 "nbformat_minor": 5
}
