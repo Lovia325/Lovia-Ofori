{
 "cells": [
  {
   "cell_type": "code",
   "execution_count": 1,
   "id": "4e95513f",
   "metadata": {},
   "outputs": [
    {
     "name": "stdout",
     "output_type": "stream",
     "text": [
      "Collecting package metadata (current_repodata.json): ...working... done\n",
      "Solving environment: ...working... done\n",
      "\n",
      "## Package Plan ##\n",
      "\n",
      "  environment location: C:\\Users\\lofori\\AppData\\Local\\anaconda3\\ANACONDA\n",
      "\n",
      "  added / updated specs:\n",
      "    - pygam\n",
      "\n",
      "\n",
      "The following packages will be downloaded:\n",
      "\n",
      "    package                    |            build\n",
      "    ---------------------------|-----------------\n",
      "    ca-certificates-2024.2.2   |       h56e8100_0         152 KB  conda-forge\n",
      "    certifi-2024.2.2           |     pyhd8ed1ab_0         157 KB  conda-forge\n",
      "    openssl-1.1.1w             |       h2bbff1b_0         5.5 MB\n",
      "    progressbar2-4.4.2         |     pyhd8ed1ab_0          53 KB  conda-forge\n",
      "    pygam-0.9.1                |     pyhd8ed1ab_0         439 KB  conda-forge\n",
      "    python-utils-3.8.2         |     pyhd8ed1ab_0          28 KB  conda-forge\n",
      "    ------------------------------------------------------------\n",
      "                                           Total:         6.3 MB\n",
      "\n",
      "The following NEW packages will be INSTALLED:\n",
      "\n",
      "  progressbar2       conda-forge/noarch::progressbar2-4.4.2-pyhd8ed1ab_0 \n",
      "  pygam              conda-forge/noarch::pygam-0.9.1-pyhd8ed1ab_0 \n",
      "  python-utils       conda-forge/noarch::python-utils-3.8.2-pyhd8ed1ab_0 \n",
      "\n",
      "The following packages will be UPDATED:\n",
      "\n",
      "  ca-certificates    pkgs/main::ca-certificates-2023.01.10~ --> conda-forge::ca-certificates-2024.2.2-h56e8100_0 \n",
      "  certifi            pkgs/main/win-64::certifi-2022.12.7-p~ --> conda-forge/noarch::certifi-2024.2.2-pyhd8ed1ab_0 \n",
      "  openssl                                 1.1.1t-h2bbff1b_0 --> 1.1.1w-h2bbff1b_0 \n",
      "\n",
      "\n",
      "\n",
      "Downloading and Extracting Packages\n",
      "\n",
      "pygam-0.9.1          | 439 KB    |            |   0% \n",
      "\n",
      "python-utils-3.8.2   | 28 KB     |            |   0% \u001b[A\n",
      "\n",
      "\n",
      "certifi-2024.2.2     | 157 KB    |            |   0% \u001b[A\u001b[A\n",
      "\n",
      "\n",
      "\n",
      "ca-certificates-2024 | 152 KB    |            |   0% \u001b[A\u001b[A\u001b[A\n",
      "\n",
      "\n",
      "\n",
      "\n",
      "progressbar2-4.4.2   | 53 KB     |            |   0% \u001b[A\u001b[A\u001b[A\u001b[A\n",
      "\n",
      "\n",
      "\n",
      "\n",
      "\n",
      "openssl-1.1.1w       | 5.5 MB    |            |   0% \u001b[A\u001b[A\u001b[A\u001b[A\u001b[A\n",
      "\n",
      "\n",
      "certifi-2024.2.2     | 157 KB    | #          |  10% \u001b[A\u001b[A\n",
      "\n",
      "python-utils-3.8.2   | 28 KB     | #####7     |  58% \u001b[A\n",
      "\n",
      "\n",
      "\n",
      "\n",
      "progressbar2-4.4.2   | 53 KB     | ###        |  30% \u001b[A\u001b[A\u001b[A\u001b[A\n",
      "pygam-0.9.1          | 439 KB    | 3          |   4% \n",
      "\n",
      "\n",
      "\n",
      "ca-certificates-2024 | 152 KB    | #          |  11% \u001b[A\u001b[A\u001b[A\n",
      "\n",
      "\n",
      "certifi-2024.2.2     | 157 KB    | #######1   |  71% \u001b[A\u001b[A\n",
      "\n",
      "\n",
      "\n",
      "\n",
      "\n",
      "openssl-1.1.1w       | 5.5 MB    |            |   0% \u001b[A\u001b[A\u001b[A\u001b[A\u001b[A\n",
      "\n",
      "\n",
      "\n",
      "\n",
      "progressbar2-4.4.2   | 53 KB     | ########## | 100% \u001b[A\u001b[A\u001b[A\u001b[A\n",
      "\n",
      "\n",
      "\n",
      "\n",
      "progressbar2-4.4.2   | 53 KB     | ########## | 100% \u001b[A\u001b[A\u001b[A\u001b[A\n",
      "\n",
      "python-utils-3.8.2   | 28 KB     | ########## | 100% \u001b[A\n",
      "\n",
      "python-utils-3.8.2   | 28 KB     | ########## | 100% \u001b[A\n",
      "\n",
      "\n",
      "\n",
      "ca-certificates-2024 | 152 KB    | ########## | 100% \u001b[A\u001b[A\u001b[A\n",
      "\n",
      "\n",
      "\n",
      "ca-certificates-2024 | 152 KB    | ########## | 100% \u001b[A\u001b[A\u001b[A\n",
      "\n",
      "\n",
      "\n",
      "\n",
      "\n",
      "openssl-1.1.1w       | 5.5 MB    | #5         |  16% \u001b[A\u001b[A\u001b[A\u001b[A\u001b[A\n",
      "pygam-0.9.1          | 439 KB    | ##9        |  29% \n",
      "\n",
      "\n",
      "\n",
      "\n",
      "\n",
      "openssl-1.1.1w       | 5.5 MB    | ##8        |  29% \u001b[A\u001b[A\u001b[A\u001b[A\u001b[A\n",
      "\n",
      "\n",
      "\n",
      "\n",
      "\n",
      "openssl-1.1.1w       | 5.5 MB    | ####2      |  42% \u001b[A\u001b[A\u001b[A\u001b[A\u001b[A\n",
      "pygam-0.9.1          | 439 KB    | ########## | 100% \n",
      "pygam-0.9.1          | 439 KB    | ########## | 100% \n",
      "\n",
      "\n",
      "\n",
      "\n",
      "\n",
      "openssl-1.1.1w       | 5.5 MB    | #####7     |  58% \u001b[A\u001b[A\u001b[A\u001b[A\u001b[A\n",
      "\n",
      "\n",
      "\n",
      "\n",
      "\n",
      "openssl-1.1.1w       | 5.5 MB    | ########1  |  81% \u001b[A\u001b[A\u001b[A\u001b[A\u001b[A\n",
      "\n",
      "\n",
      "\n",
      "\n",
      "\n",
      "openssl-1.1.1w       | 5.5 MB    | #########6 |  97% \u001b[A\u001b[A\u001b[A\u001b[A\u001b[A\n",
      "\n",
      "\n",
      "certifi-2024.2.2     | 157 KB    | ########## | 100% \u001b[A\u001b[A\n",
      "\n",
      "\n",
      "certifi-2024.2.2     | 157 KB    | ########## | 100% \u001b[A\u001b[A\n",
      "\n",
      "\n",
      "\n",
      "\n",
      "\n",
      "openssl-1.1.1w       | 5.5 MB    | ########## | 100% \u001b[A\u001b[A\u001b[A\u001b[A\u001b[A\n",
      "                                                     \n",
      "\n",
      "\n",
      "                                                     \u001b[A\n",
      "\n",
      "\n",
      "                                                     \u001b[A\u001b[A\n",
      "\n",
      "\n",
      "\n",
      "                                                     \u001b[A\u001b[A\u001b[A\n",
      "\n",
      "\n",
      "\n",
      "\n",
      "                                                     \u001b[A\u001b[A\u001b[A\u001b[A\n",
      "\n",
      "\n",
      "\n",
      "\n",
      "\n",
      "                                                     \u001b[A\u001b[A\u001b[A\u001b[A\u001b[A\n",
      "\n",
      "Preparing transaction: ...working... done\n",
      "Verifying transaction: ...working... done\n",
      "Executing transaction: ...working... done\n",
      "\n",
      "Note: you may need to restart the kernel to use updated packages.\n"
     ]
    },
    {
     "name": "stderr",
     "output_type": "stream",
     "text": [
      "\n",
      "\n",
      "==> WARNING: A newer version of conda exists. <==\n",
      "  current version: 23.3.1\n",
      "  latest version: 24.4.0\n",
      "\n",
      "Please update conda by running\n",
      "\n",
      "    $ conda update -n base -c defaults conda\n",
      "\n",
      "Or to minimize the number of packages updated during conda update use\n",
      "\n",
      "     conda install conda=24.4.0\n",
      "\n",
      "\n"
     ]
    }
   ],
   "source": [
    "conda install -c conda-forge pygam\n"
   ]
  },
  {
   "cell_type": "code",
   "execution_count": 5,
   "id": "4c171321",
   "metadata": {},
   "outputs": [
    {
     "name": "stdout",
     "output_type": "stream",
     "text": [
      "        0     1    2\n",
      "0  2006.0  18.0  0.0\n",
      "1  2004.0  24.0  3.0\n",
      "2  2003.0  45.0  2.0\n",
      "3  2003.0  43.0  3.0\n",
      "4  2005.0  50.0  1.0\n"
     ]
    }
   ],
   "source": [
    "from pygam.datasets import wage\n",
    "\n",
    "#load the dataset\n",
    "tmp_x, y= wage(return_X_y=True)\n",
    "\n",
    "#Assuming X is a pandas Dataframe or can be converted into one(for easier viewing)\n",
    "import pandas as pd\n",
    "\n",
    "#Convert to Dataframe if necessary(this step depends on how pygam returns the dataset)\n",
    "if not isinstance(tmp_x, pd.DataFrame):\n",
    "    X = pd.DataFrame(tmp_x)\n",
    "\n",
    "print(X.head())"
   ]
  },
  {
   "cell_type": "code",
   "execution_count": 11,
   "id": "b99430c1",
   "metadata": {},
   "outputs": [
    {
     "name": "stdout",
     "output_type": "stream",
     "text": [
      "[ 75.04315402  70.47601965 130.98217738 ...  66.22940829  87.98103279\n",
      "  90.48191336]\n"
     ]
    },
    {
     "data": {
      "image/png": "[encoded data removed]",
      "text/plain": [
       "<Figure size 640x480 with 1 Axes>"
      ]
     },
     "metadata": {},
     "output_type": "display_data"
    }
   ],
   "source": [
    "import numpy as np\n",
    "import matplotlib.pyplot as plt\n",
    "\n",
    "# # Parameters\n",
    "# mu = 10 # Average number of customers per hour\n",
    "# n_hours = 1000 # Number of hours to simulate\n",
    "\n",
    "# # Simulate arrivals using the Poisson distribution\n",
    "# # customer_arrivals = np.random.poisson(mu, n_hours)\n",
    "print(y)\n",
    "\n",
    "# Plotting\n",
    "plt.hist(y,bins=50)\n",
    "plt.title('Histogram of Wages per Hour')\n",
    "plt.xlabel('Wage')\n",
    "plt.ylabel('Frequency')\n",
    "#plt\n",
    "plt.show()"
   ]
  },
  {
   "cell_type": "code",
   "execution_count": 9,
   "id": "cb7f656f",
   "metadata": {},
   "outputs": [
    {
     "name": "stdout",
     "output_type": "stream",
     "text": [
      "2400\n",
      "        id  spacegroup  number_of_total_atoms  percent_atom_al  \\\n",
      "0        1          33                     80           0.6250   \n",
      "1        2         194                     80           0.6250   \n",
      "2        3         227                     40           0.8125   \n",
      "3        4         167                     30           0.7500   \n",
      "4        5         194                     80           0.0000   \n",
      "...    ...         ...                    ...              ...   \n",
      "2395  2396          33                     40           0.7500   \n",
      "2396  2397         167                     30           0.4167   \n",
      "2397  2398         206                     80           0.4375   \n",
      "2398  2399          33                     80           0.3125   \n",
      "2399  2400         206                     80           0.8750   \n",
      "\n",
      "      percent_atom_ga  percent_atom_in  lattice_vector_1_ang  \\\n",
      "0              0.3750           0.0000                9.9523   \n",
      "1              0.3750           0.0000                6.1840   \n",
      "2              0.1875           0.0000                9.7510   \n",
      "3              0.0000           0.2500                5.0036   \n",
      "4              0.6250           0.3750                6.6614   \n",
      "...               ...              ...                   ...   \n",
      "2395           0.2500           0.0000                4.9469   \n",
      "2396           0.5833           0.0000                4.9566   \n",
      "2397           0.5625           0.0000                9.2204   \n",
      "2398           0.1875           0.5000               10.6529   \n",
      "2399           0.0938           0.0312                9.0648   \n",
      "\n",
      "      lattice_vector_2_ang  lattice_vector_3_ang  lattice_angle_alpha_degree  \\\n",
      "0                   8.5513                9.1775                     90.0026   \n",
      "1                   6.1838               23.6287                     90.0186   \n",
      "2                   5.6595               13.9630                     90.9688   \n",
      "3                   5.0034               13.5318                     89.9888   \n",
      "4                   6.6612               24.5813                     89.9960   \n",
      "...                    ...                   ...                         ...   \n",
      "2395                8.5014                9.1298                     90.0038   \n",
      "2396                4.9562               13.4178                     89.9938   \n",
      "2397                9.2200                9.2199                     90.0047   \n",
      "2398                9.0954                9.7210                     90.0015   \n",
      "2399                9.0641                9.0643                     90.0027   \n",
      "\n",
      "      lattice_angle_beta_degree  lattice_angle_gamma_degree  \\\n",
      "0                       90.0023                     90.0017   \n",
      "1                       89.9980                    120.0025   \n",
      "2                       91.1228                     30.5185   \n",
      "3                       90.0119                    120.0017   \n",
      "4                       90.0006                    119.9893   \n",
      "...                         ...                         ...   \n",
      "2395                    90.0023                     90.0015   \n",
      "2396                    90.0075                    120.0007   \n",
      "2397                    90.0046                     89.9954   \n",
      "2398                    89.9996                     90.0004   \n",
      "2399                    90.0037                     89.9987   \n",
      "\n",
      "      formation_energy_ev_natom  bandgap_energy_ev  \n",
      "0                        0.0680             3.4387  \n",
      "1                        0.2490             2.9210  \n",
      "2                        0.1821             2.7438  \n",
      "3                        0.2172             3.3492  \n",
      "4                        0.0505             1.3793  \n",
      "...                         ...                ...  \n",
      "2395                     0.0381             3.7349  \n",
      "2396                     0.0670             3.4915  \n",
      "2397                     0.0906             3.2750  \n",
      "2398                     0.2566             1.3915  \n",
      "2399                     0.1135             4.2107  \n",
      "\n",
      "[2400 rows x 14 columns]\n",
      "      percent_atom_al  percent_atom_ga  percent_atom_in  \\\n",
      "0              0.6250           0.3750           0.0000   \n",
      "1              0.6250           0.3750           0.0000   \n",
      "2              0.8125           0.1875           0.0000   \n",
      "3              0.7500           0.0000           0.2500   \n",
      "4              0.0000           0.6250           0.3750   \n",
      "...               ...              ...              ...   \n",
      "2395           0.7500           0.2500           0.0000   \n",
      "2396           0.4167           0.5833           0.0000   \n",
      "2397           0.4375           0.5625           0.0000   \n",
      "2398           0.3125           0.1875           0.5000   \n",
      "2399           0.8750           0.0938           0.0312   \n",
      "\n",
      "      formation_energy_ev_natom  \n",
      "0                        0.0680  \n",
      "1                        0.2490  \n",
      "2                        0.1821  \n",
      "3                        0.2172  \n",
      "4                        0.0505  \n",
      "...                         ...  \n",
      "2395                     0.0381  \n",
      "2396                     0.0670  \n",
      "2397                     0.0906  \n",
      "2398                     0.2566  \n",
      "2399                     0.1135  \n",
      "\n",
      "[2400 rows x 4 columns]\n"
     ]
    }
   ],
   "source": [
    "import numpy as np\n",
    "import matplotlib.pyplot as plt\n",
    "import sklearn\n",
    "import pandas as pd\n",
    "\n",
    "df=pd.read_csv(\"C:\\\\Users\\\\lofori\\\\Desktop\\\\train.csv\")\n",
    "print(len(df))\n",
    "print(df)\n",
    "\n",
    "X=df.loc[:,[\"percent_atom_al\",\"percent_atom_ga\",\"percent_atom_in\",\"formation_energy_ev_natom\"]]\n",
    "print(X)\n",
    "\n",
    "y=df[\"bandgap_energy_ev\"]"
   ]
  },
  {
   "cell_type": "code",
   "execution_count": 10,
   "id": "b1daa6ae",
   "metadata": {},
   "outputs": [],
   "source": [
    "from sklearn.model_selection import train_test_split\n",
    "X_train, X_test, y_train, y_test = train_test_split(X, y, test_size=0.33, random_state=42)"
   ]
  },
  {
   "cell_type": "code",
   "execution_count": 12,
   "id": "e97eeee7",
   "metadata": {},
   "outputs": [
    {
     "name": "stdout",
     "output_type": "stream",
     "text": [
      "[-64.94888833 -67.29178801 -68.34303069  -4.49330987]\n",
      "69.62987572328511\n"
     ]
    }
   ],
   "source": [
    "from sklearn.linear_model import LinearRegression\n",
    "\n",
    "reg = LinearRegression().fit(X_train, y_train)\n",
    "\n",
    "print(reg.coef_)\n",
    "print(reg.intercept_)"
   ]
  },
  {
   "cell_type": "code",
   "execution_count": 13,
   "id": "3bc58c28",
   "metadata": {},
   "outputs": [],
   "source": [
    "y_prediction=reg.predict(X_test)"
   ]
  },
  {
   "cell_type": "code",
   "execution_count": 14,
   "id": "0018cd02",
   "metadata": {},
   "outputs": [
    {
     "data": {
      "image/png": "[encoded data removed]",
      "text/plain": [
       "<Figure size 800x600 with 1 Axes>"
      ]
     },
     "metadata": {},
     "output_type": "display_data"
    }
   ],
   "source": [
    "plt.figure(figsize=(8,6))\n",
    "plt.scatter(y_test,y_prediction)\n",
    "plt.xlabel('true value',fontsize=15)\n",
    "plt.ylabel('predicted value',fontsize=15)\n",
    "plt.title('Parity plot for regression model')\n",
    "plt.show()"
   ]
  },
  {
   "cell_type": "code",
   "execution_count": 15,
   "id": "63afa832",
   "metadata": {},
   "outputs": [
    {
     "name": "stdout",
     "output_type": "stream",
     "text": [
      "792\n"
     ]
    },
    {
     "data": {
      "text/plain": [
       "0.28509761411818185"
      ]
     },
     "execution_count": 15,
     "metadata": {},
     "output_type": "execute_result"
    }
   ],
   "source": [
    "error = []\n",
    "for i, j in zip(y_prediction, y_test):\n",
    "    error.append(np.abs(i-j))\n",
    "    \n",
    "    \n",
    "print(len(error))\n",
    "np.sum(error)/len(error)\n",
    "    \n",
    "    "
   ]
  },
  {
   "cell_type": "code",
   "execution_count": 16,
   "id": "9dac9cdf",
   "metadata": {},
   "outputs": [
    {
     "name": "stdout",
     "output_type": "stream",
     "text": [
      "792\n"
     ]
    },
    {
     "data": {
      "text/plain": [
       "0.2850976141181817"
      ]
     },
     "execution_count": 16,
     "metadata": {},
     "output_type": "execute_result"
    }
   ],
   "source": [
    "total_error = 0\n",
    "error = []\n",
    "for i, j in zip(y_prediction, y_test):\n",
    "    total_error += np.abs(i-j)\n",
    "    error.append(np.abs(i-j))\n",
    "    \n",
    "    \n",
    "print(len(error))\n",
    "np.sum(error)/len(error)\n",
    "total_error / len(y_prediction)"
   ]
  },
  {
   "cell_type": "code",
   "execution_count": 34,
   "id": "c20da057",
   "metadata": {},
   "outputs": [
    {
     "name": "stdout",
     "output_type": "stream",
     "text": [
      "792\n",
      "0.010130502593545296\n",
      "0.010130502593545292\n"
     ]
    }
   ],
   "source": [
    "import numpy as np\n",
    "\n",
    "total_error = 0\n",
    "error = []\n",
    "N = len(y_prediction)\n",
    "\n",
    "for i, j in zip(y_prediction, y_test):\n",
    "    squared_diff = np.square(np.abs(i - j))\n",
    "    total_error += np.sqrt(1/N * np.sum(squared_diff))\n",
    "    error.append(np.sqrt(1/N * np.sum(squared_diff)))\n",
    "\n",
    "print(len(error))\n",
    "print(np.sum(error) / len(error))\n",
    "print(total_error / len(y_prediction))\n"
   ]
  },
  {
   "cell_type": "code",
   "execution_count": 39,
   "id": "1b2f4d07",
   "metadata": {},
   "outputs": [
    {
     "name": "stdout",
     "output_type": "stream",
     "text": [
      "792\n"
     ]
    },
    {
     "data": {
      "text/plain": [
       "0.010130502593545292"
      ]
     },
     "execution_count": 39,
     "metadata": {},
     "output_type": "execute_result"
    }
   ],
   "source": [
    "total_error = 0\n",
    "error = []\n",
    "N = len(y_prediction)\n",
    "\n",
    "for i, j in zip(y_prediction, y_test):\n",
    "    squared_diff = np.square(np.abs(i - j))\n",
    "    total_error += np.sqrt(1/N * np.sum(squared_diff))\n",
    "    error.append(np.sqrt(1/N * np.sum(squared_diff)))\n",
    "    \n",
    "\n",
    "print(len(error))\n",
    "np.sum(error)/len(error)\n",
    "total_error / len(y_prediction)    \n",
    "    \n",
    "    "
   ]
  },
  {
   "cell_type": "code",
   "execution_count": 50,
   "id": "a6bb9c7d",
   "metadata": {},
   "outputs": [],
   "source": [
    "import pygam\n",
    "from pygam import LinearGAM, s"
   ]
  },
  {
   "cell_type": "code",
   "execution_count": 53,
   "id": "db7f59f2",
   "metadata": {},
   "outputs": [],
   "source": [
    "gam = LinearGAM(s(0) + s(1) + s(2) + s(3))\n",
    "#gam = LinearGAM(s(0) + s(1) +s(2) + s(3).fit(X_train,y_train))"
   ]
  },
  {
   "cell_type": "code",
   "execution_count": 57,
   "id": "ec64b713",
   "metadata": {},
   "outputs": [],
   "source": [
    "import sklearn\n",
    "from sklearn.ensemble import RandomForestRegressor\n",
    "from sklearn.model_selection import LeavePOut, LeaveOneOut"
   ]
  },
  {
   "cell_type": "code",
   "execution_count": 59,
   "id": "83d7d5c0",
   "metadata": {},
   "outputs": [],
   "source": [
    "rf = RandomForestRegressor(n_estimators=30, max_depth=None, bootstrap=True)"
   ]
  },
  {
   "cell_type": "code",
   "execution_count": 60,
   "id": "9a40c55b",
   "metadata": {},
   "outputs": [],
   "source": [
    "rf.fit(X_train, y_train)\n",
    "y_pred_test = rf.predict(X_test)\n",
    "y_pred_train = rf.predict(X_train)"
   ]
  },
  {
   "cell_type": "code",
   "execution_count": 63,
   "id": "989d3a79",
   "metadata": {},
   "outputs": [],
   "source": [
    "def calc_rmse(y1, y2):\n",
    "\n",
    "    for i, j in zip(y_prediction, y_test):\n",
    "        squared_diff = np.square(np.abs(i - j))\n",
    "        total_error += np.sqrt(1/N * np.sum(squared_diff))\n",
    "        error.append(np.sqrt(1/N * np.sum(squared_diff)))\n",
    "\n",
    "    print(len(error))\n",
    "    np.sum(error)/len(error)\n",
    "    total_error / len(y_prediction) \n",
    "    return np.sqrt(err)"
   ]
  },
  {
   "cell_type": "code",
   "execution_count": 71,
   "id": "f5ba084c",
   "metadata": {},
   "outputs": [],
   "source": [
    "def calc_mae(y1, y2):\n",
    "    total_error = 0\n",
    "    error = [] \n",
    "    for i, j in zip(y1, y2):\n",
    "        total_error += np.abs(i-j)\n",
    "        error.append(np.abs(i-j))\n",
    "    \n",
    "    \n",
    "    print(len(error))\n",
    "    return np.sum(error)/len(error)\n"
   ]
  },
  {
   "cell_type": "code",
   "execution_count": 72,
   "id": "e4f70980",
   "metadata": {},
   "outputs": [
    {
     "name": "stdout",
     "output_type": "stream",
     "text": [
      "1608\n",
      "train set MAE 0.0695421858140305\n",
      "792\n",
      "test set MAE 0.18970411058501688\n"
     ]
    }
   ],
   "source": [
    "rf = rf = RandomForestRegressor(n_estimators=30, max_depth=None, bootstrap=True)\n",
    "rf.fit(X_train, y_train)\n",
    "y_pred_test = rf.predict(X_test)\n",
    "y_pred_train = rf.predict(X_train)\n",
    "\n",
    "print(\"train set MAE\", calc_mae(y_train, y_pred_train))\n",
    "print(\"test set MAE\", calc_mae(y_test, y_pred_test))"
   ]
  },
  {
   "cell_type": "code",
   "execution_count": null,
   "id": "6d8fca9f",
   "metadata": {},
   "outputs": [],
   "source": []
  }
 ],
 "metadata": {
  "kernelspec": {
   "display_name": "Python 3 (ipykernel)",
   "language": "python",
   "name": "python3"
  },
  "language_info": {
   "codemirror_mode": {
    "name": "ipython",
    "version": 3
   },
   "file_extension": ".py",
   "mimetype": "text/x-python",
   "name": "python",
   "nbconvert_exporter": "python",
   "pygments_lexer": "ipython3",
   "version": "3.10.9"
  }
 },
 "nbformat": 4,
 "nbformat_minor": 5
}
